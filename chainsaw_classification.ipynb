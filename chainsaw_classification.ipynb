{
 "cells": [
  {
   "cell_type": "code",
   "execution_count": 1,
   "metadata": {},
   "outputs": [],
   "source": [
    "import os\n",
    "import librosa\n",
    "import numpy as np\n",
    "import sklearn\n",
    "from sklearn.model_selection import train_test_split\n",
    "from sklearn import linear_model\n",
    "from sklearn.svm import LinearSVC, SVC\n",
    "from sklearn.metrics import accuracy_score\n",
    "from sklearn.externals import joblib\n",
    "from sklearn.preprocessing import StandardScaler\n",
    "import librosa\n",
    "import librosa.display\n",
    "\n",
    "import scipy\n",
    "\n",
    "from tqdm import tqdm\n",
    "import matplotlib.pyplot as plt\n",
    "\n",
    "% matplotlib inline\n",
    "np.random.seed(7)"
   ]
  },
  {
   "cell_type": "code",
   "execution_count": 2,
   "metadata": {},
   "outputs": [],
   "source": [
    "base_dir = '/data/private/SU/bbchip13/chainsaw_classification/data/'\n",
    "chainsaw_wav_dir = base_dir+'chainsaw/'\n",
    "other_wav_dir = base_dir+'no_chainsaw/'"
   ]
  },
  {
   "cell_type": "code",
   "execution_count": 3,
   "metadata": {},
   "outputs": [],
   "source": [
    "chainsaw_list = [chainsaw_wav_dir+filename for filename in os.listdir(chainsaw_wav_dir) \n",
    "                 if filename.endswith('.wav')]\n",
    "chainsaw_list = sklearn.utils.shuffle(chainsaw_list)\n",
    "# chainsaw_list = chainsaw_list[:1200]\n",
    "chainsaw_list = chainsaw_list\n",
    "chainsaw_labels = np.ones(len(chainsaw_list))\n",
    "\n",
    "no_chainsaw_list = [other_wav_dir+filename for filename in os.listdir(other_wav_dir)\n",
    "                    if filename.endswith('.wav')]\n",
    "no_chainsaw_list = sklearn.utils.shuffle(no_chainsaw_list)\n",
    "# no_chainsaw_list = no_chainsaw_list[:1200]\n",
    "no_chainsaw_list = no_chainsaw_list\n",
    "no_chainsaw_labels = np.zeros(len(no_chainsaw_list))"
   ]
  },
  {
   "cell_type": "code",
   "execution_count": 4,
   "metadata": {},
   "outputs": [],
   "source": [
    "def load_wavs(filenames):\n",
    "    return np.asarray([librosa.load(filename)[0] for filename in tqdm(filenames)])\n",
    "\n",
    "### If you have lack of memory, Use this\n",
    "#     wav = librosa.load(filenames[0])\n",
    "#     wavs = np.zeros( (len(filenames), wav.shape[0]) )\n",
    "#     for i, filename in enumerate(filenames):\n",
    "#         wavs[i][:] = librosa.load(filename)[:]\n",
    "#     return wavs"
   ]
  },
  {
   "cell_type": "code",
   "execution_count": 5,
   "metadata": {},
   "outputs": [
    {
     "name": "stderr",
     "output_type": "stream",
     "text": [
      "100%|██████████| 2218/2218 [11:16<00:00,  3.26it/s]\n",
      "100%|██████████| 1093/1093 [05:33<00:00,  3.26it/s]\n"
     ]
    }
   ],
   "source": [
    "x_train_chainsaw, x_test_chainsaw, y_train_chainsaw, y_test_chainsaw \\\n",
    "    = train_test_split(chainsaw_list, chainsaw_labels, test_size = 0.33, random_state = 7)\n",
    "x_train_no_chainsaw, x_test_no_chainsaw, y_train_no_chainsaw, y_test_no_chainsaw \\\n",
    "    = train_test_split(no_chainsaw_list, no_chainsaw_labels, test_size = 0.33, random_state = 7)\n",
    "\n",
    "x_train_filenames = x_train_chainsaw+x_train_no_chainsaw\n",
    "y_train = np.concatenate([y_train_chainsaw, y_train_no_chainsaw])\n",
    "\n",
    "x_test_filenames = x_test_chainsaw+x_test_no_chainsaw\n",
    "y_test = np.concatenate([y_test_chainsaw, y_test_no_chainsaw])\n",
    "\n",
    "x_train_filenames, y_train = sklearn.utils.shuffle(x_train_filenames, y_train)\n",
    "x_test_filenames, y_test = sklearn.utils.shuffle(x_test_filenames, y_test)\n",
    "\n",
    "x_train_wavs = load_wavs(x_train_filenames)\n",
    "x_test_wavs = load_wavs(x_test_filenames)"
   ]
  },
  {
   "cell_type": "code",
   "execution_count": 6,
   "metadata": {},
   "outputs": [],
   "source": [
    "def preprocess(wav):\n",
    "    wav = sklearn.preprocessing.minmax_scale(wav, feature_range=(-1, 1))\n",
    "    wav_mfcc = librosa.feature.mfcc(y=wav, n_mfcc=13)\n",
    "    wav_mfcc_std = StandardScaler().fit_transform(wav_mfcc)\n",
    "    wav_mfcc_std = wav_mfcc_std.mean(axis=1)\n",
    "    \n",
    "    features = np.concatenate([wav_mfcc_std])\n",
    "    return features\n",
    "\n",
    "def train(x_train_wavs, y_train):\n",
    "    x_train = np.apply_along_axis(preprocess, 1, x_train_wavs)\n",
    "\n",
    "    logreg = linear_model.LogisticRegression()\n",
    "    logreg.fit(x_train, y_train)\n",
    "    print('Logistic Regression Score:', logreg.score(x_train, y_train))\n",
    "    joblib.dump(logreg, 'logreg_chainsaw.pkl')\n",
    "    \n",
    "    linear_svc = LinearSVC()\n",
    "    linear_svc.fit(x_train, y_train)\n",
    "    print('Linear SVM Score:', linear_svc.score(x_train, y_train))\n",
    "    joblib.dump(linear_svc, 'linear_svc_chainsaw.pkl') \n",
    "\n",
    "    kernel_svc = SVC()\n",
    "    kernel_svc.fit(x_train, y_train)\n",
    "    print('Kernel SVM Score:', kernel_svc.score(x_train, y_train))\n",
    "    joblib.dump(kernel_svc, 'kernel_svc_chainsaw.pkl')\n",
    "\n",
    "\n",
    "def test(x_test_wavs, y_test):\n",
    "    x_test = np.apply_along_axis(preprocess, 1, x_test_wavs)\n",
    "\n",
    "    clf = joblib.load('logreg_chainsaw.pkl')\n",
    "    %timeit -n 100 -r 10 clf.predict(x_test)\n",
    "    y_test_estimated = clf.predict(x_test)\n",
    "    print('Logistic Regression Accuracy:', accuracy_score(y_test_estimated, y_test))\n",
    "    \n",
    "    clf = joblib.load('linear_svc_chainsaw.pkl')\n",
    "    %timeit -n 100 -r 10 clf.predict(x_test)\n",
    "    y_test_estimated = clf.predict(x_test)\n",
    "    print('Linear SVM Accuracy:', accuracy_score(y_test_estimated, y_test))\n",
    "    \n",
    "    clf = joblib.load('kernel_svc_chainsaw.pkl')\n",
    "    x_test = np.apply_along_axis(preprocess, 1, x_test_wavs)\n",
    "    %timeit -n 100 -r 10 clf.predict(x_test)\n",
    "    y_test_estimated = clf.predict(x_test)\n",
    "    print('Kernel SVM Accuracy:', accuracy_score(y_test_estimated, y_test))"
   ]
  },
  {
   "cell_type": "code",
   "execution_count": 7,
   "metadata": {},
   "outputs": [
    {
     "name": "stdout",
     "output_type": "stream",
     "text": [
      "Logistic Regression Score: 0.9337240757439135\n",
      "Linear SVM Score: 0.9350766456266907\n",
      "Kernel SVM Score: 0.9517583408476105\n",
      "27.3 ms ± 7.81 ms per loop (mean ± std. dev. of 10 runs, 100 loops each)\n",
      "Logistic Regression Accuracy: 0.9277218664226898\n",
      "35.3 ms ± 8.48 ms per loop (mean ± std. dev. of 10 runs, 100 loops each)\n",
      "Linear SVM Accuracy: 0.9277218664226898\n",
      "19.3 ms ± 302 µs per loop (mean ± std. dev. of 10 runs, 100 loops each)\n",
      "Kernel SVM Accuracy: 0.9451052150045746\n"
     ]
    }
   ],
   "source": [
    "train(x_train_wavs, y_train)\n",
    "test(x_test_wavs, y_test)"
   ]
  }
 ],
 "metadata": {
  "kernelspec": {
   "display_name": "Python 3",
   "language": "python",
   "name": "python3"
  },
  "language_info": {
   "codemirror_mode": {
    "name": "ipython",
    "version": 3
   },
   "file_extension": ".py",
   "mimetype": "text/x-python",
   "name": "python",
   "nbconvert_exporter": "python",
   "pygments_lexer": "ipython3",
   "version": "3.5.2"
  }
 },
 "nbformat": 4,
 "nbformat_minor": 2
}
