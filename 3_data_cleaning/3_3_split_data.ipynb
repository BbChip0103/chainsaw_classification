{
 "cells": [
  {
   "cell_type": "code",
   "execution_count": 1,
   "metadata": {},
   "outputs": [],
   "source": [
    "import os\n",
    "from sklearn.model_selection import train_test_split\n",
    "import shutil\n",
    "import pandas as pd\n",
    "import random\n",
    "random.seed(7)"
   ]
  },
  {
   "cell_type": "code",
   "execution_count": 2,
   "metadata": {},
   "outputs": [],
   "source": [
    "base_dir = '../'\n",
    "chainsaw_dir = base_dir+'ESC-50-master/wav_chainsaw_5sec/'\n",
    "no_chainsaw_dir = base_dir+'ESC-50-master/split_wav/'\n",
    "\n",
    "result_base_dir = base_dir+'data/'"
   ]
  },
  {
   "cell_type": "code",
   "execution_count": 3,
   "metadata": {
    "scrolled": true
   },
   "outputs": [],
   "source": [
    "merge_list = []\n",
    "\n",
    "chainsaw_filenames = [chainsaw_dir+filename for filename in os.listdir(chainsaw_dir)\n",
    "                         if filename.endswith('.wav')]\n",
    "chainsaw_filenames = [filename for filename in chainsaw_filenames\n",
    "                         if os.path.getsize(filename) == 441078]\n",
    "chainsaw_filenames = random.sample(chainsaw_filenames, 1500)\n",
    "\n",
    "\n",
    "x_train_chainsaw, x_test_chainsaw \\\n",
    "    = train_test_split(chainsaw_filenames, test_size = 0.3, random_state = 7)\n",
    "x_train_chainsaw, x_val_chainsaw \\\n",
    "    = train_test_split(x_train_chainsaw, test_size = 0.3, random_state = 7)\n",
    "    \n",
    "merge_list += [(os.path.basename(filename), 1, 'train') for filename in x_train_chainsaw]\n",
    "merge_list += [(os.path.basename(filename), 1, 'val') for filename in x_val_chainsaw]\n",
    "merge_list += [(os.path.basename(filename), 1, 'test') for filename in x_test_chainsaw]\n",
    "\n",
    "no_chainsaw_dirs = [no_chainsaw_dir+dirname for dirname in os.listdir(no_chainsaw_dir)\n",
    "                       if os.path.isdir(no_chainsaw_dir+dirname)]\n",
    "for dirname in no_chainsaw_dirs:\n",
    "    no_chainsaw_filenames = [dirname+'/'+filename for filename in os.listdir(dirname)\n",
    "                             if filename.endswith('.wav')]\n",
    "    \n",
    "    x_train_no_chainsaw, x_test_no_chainsaw \\\n",
    "        = train_test_split(no_chainsaw_filenames, test_size = 0.33, random_state = 7)\n",
    "    x_train_no_chainsaw, x_val_no_chainsaw \\\n",
    "        = train_test_split(x_train_no_chainsaw, test_size = 0.33, random_state = 7)\n",
    "        \n",
    "    merge_list += [(os.path.basename(filename), 0, 'train') for filename in x_train_no_chainsaw]\n",
    "    merge_list += [(os.path.basename(filename), 0, 'val') for filename in x_val_no_chainsaw]\n",
    "    merge_list += [(os.path.basename(filename), 0, 'test') for filename in x_test_no_chainsaw]"
   ]
  },
  {
   "cell_type": "code",
   "execution_count": 4,
   "metadata": {},
   "outputs": [
    {
     "data": {
      "text/plain": [
       "[('392_26.17.wav', 1, 'train'),\n",
       " ('450_50.1.wav', 1, 'train'),\n",
       " ('8_29.05.wav', 1, 'train'),\n",
       " ('597_263.75.wav', 1, 'train'),\n",
       " ('1548_27.76.wav', 1, 'train'),\n",
       " ('1147_182.92.wav', 1, 'train'),\n",
       " ('1321_40.58.wav', 1, 'train'),\n",
       " ('1598_6.38.wav', 1, 'train'),\n",
       " ('1528_40.34.wav', 1, 'train'),\n",
       " ('379_14.32.wav', 1, 'train')]"
      ]
     },
     "execution_count": 4,
     "metadata": {},
     "output_type": "execute_result"
    }
   ],
   "source": [
    "merge_list[:10]"
   ]
  },
  {
   "cell_type": "code",
   "execution_count": 5,
   "metadata": {},
   "outputs": [
    {
     "data": {
      "text/plain": [
       "<bound method NDFrame.head of                filename  label   type\n",
       "0         1001_21.6.wav      1  train\n",
       "1         1055_48.7.wav      1    val\n",
       "2     3-103051-A-19.wav      0   test\n",
       "3     4-165791-B-45.wav      0  train\n",
       "4        1224_17.94.wav      1  train\n",
       "5        1189_18.15.wav      1   test\n",
       "6     1-155858-F-25.wav      0  train\n",
       "7     4-128659-A-33.wav      0  train\n",
       "8     4-166661-A-10.wav      0  train\n",
       "9     4-125072-B-19.wav      0   test\n",
       "10        284_42.37.wav      1   test\n",
       "11       1133_28.28.wav      1   test\n",
       "12    2-188822-B-40.wav      0   test\n",
       "13        952_71.66.wav      1    val\n",
       "14        345_18.41.wav      1   test\n",
       "15        897_23.67.wav      1    val\n",
       "16    2-262579-A-45.wav      0    val\n",
       "17        919_10.12.wav      1  train\n",
       "18     1-67152-A-17.wav      0  train\n",
       "19       1266_51.58.wav      1  train\n",
       "20    1-100038-A-14.wav      0    val\n",
       "21     1-24524-B-19.wav      0  train\n",
       "22        169_86.91.wav      1   test\n",
       "23        978_80.08.wav      1    val\n",
       "24       1179_19.14.wav      1  train\n",
       "25       1290_42.26.wav      1   test\n",
       "26       1064_138.4.wav      1    val\n",
       "27     1-36393-A-23.wav      0    val\n",
       "28        657_88.25.wav      1    val\n",
       "29        529_40.13.wav      1  train\n",
       "...                 ...    ...    ...\n",
       "2710       696_0.05.wav      1   test\n",
       "2711     1192_86.59.wav      1    val\n",
       "2712      206_55.16.wav      1  train\n",
       "2713     1543_51.14.wav      1   test\n",
       "2714      848_48.13.wav      1    val\n",
       "2715      216_10.78.wav      1   test\n",
       "2716     728_300.81.wav      1  train\n",
       "2717     480_201.76.wav      1  train\n",
       "2718   4-149940-A-5.wav      0  train\n",
       "2719     1-5996-A-6.wav      0    val\n",
       "2720      941_23.78.wav      1  train\n",
       "2721   2-109231-B-9.wav      0  train\n",
       "2722  4-187769-A-14.wav      0   test\n",
       "2723  3-140774-A-10.wav      0   test\n",
       "2724      441_20.07.wav      1  train\n",
       "2725  5-177957-B-40.wav      0  train\n",
       "2726   1-61221-A-17.wav      0  train\n",
       "2727      784_38.21.wav      1   test\n",
       "2728  3-119455-A-44.wav      0   test\n",
       "2729   2-18766-A-12.wav      0    val\n",
       "2730   3-126358-B-3.wav      0  train\n",
       "2731   1-51805-A-33.wav      0    val\n",
       "2732  3-112557-A-23.wav      0   test\n",
       "2733     759_148.39.wav      1    val\n",
       "2734      415_20.03.wav      1   test\n",
       "2735   3-140199-C-8.wav      0   test\n",
       "2736  5-181766-A-10.wav      0   test\n",
       "2737     738_726.73.wav      1  train\n",
       "2738   1-28808-A-43.wav      0    val\n",
       "2739       164_18.4.wav      1   test\n",
       "\n",
       "[2740 rows x 3 columns]>"
      ]
     },
     "execution_count": 5,
     "metadata": {},
     "output_type": "execute_result"
    }
   ],
   "source": [
    "df = pd.DataFrame({\n",
    "                    'filename':[filename for filename, _, _ in merge_list],\n",
    "                    'label':[label for _, label, _ in merge_list],\n",
    "                    'type':[data_type for _, _, data_type in merge_list]\n",
    "                  })\n",
    "df = df.sample(frac=1).reset_index(drop=True)\n",
    "df.head"
   ]
  },
  {
   "cell_type": "code",
   "execution_count": 6,
   "metadata": {},
   "outputs": [],
   "source": [
    "df.to_csv('1200_data_annotations.csv', index=False)"
   ]
  },
  {
   "cell_type": "code",
   "execution_count": 7,
   "metadata": {},
   "outputs": [],
   "source": [
    "df = pd.read_csv('1200_data_annotations.csv')\n",
    "\n",
    "data_filename_list = df['filename'].tolist()\n",
    "\n",
    "chainsaw_filenames = [chainsaw_dir+filename for filename in os.listdir(chainsaw_dir)\n",
    "                         if filename.endswith('.wav')]\n",
    "os.makedirs(result_base_dir, exist_ok=True)\n",
    "for filename in chainsaw_filenames:\n",
    "    if os.path.basename(filename) in data_filename_list:\n",
    "        shutil.copy(filename, result_base_dir)\n",
    "\n",
    "no_chainsaw_dirs = [no_chainsaw_dir+dirname for dirname in os.listdir(no_chainsaw_dir)\n",
    "                       if os.path.isdir(no_chainsaw_dir+dirname)]\n",
    "for dirname in no_chainsaw_dirs:\n",
    "    no_chainsaw_filenames = [dirname+'/'+filename for filename in os.listdir(dirname)\n",
    "                             if filename.endswith('.wav')]\n",
    "    for filename in no_chainsaw_filenames:\n",
    "        if os.path.basename(filename) in data_filename_list:\n",
    "            shutil.copy(filename, result_base_dir)\n",
    "    \n",
    "for idx, filename, label, data_type in df.itertuples():\n",
    "    result_dir = result_base_dir+data_type+'/'\n",
    "    os.makedirs(result_dir, exist_ok=True)\n",
    "    shutil.move(result_base_dir+filename, result_dir)"
   ]
  },
  {
   "cell_type": "code",
   "execution_count": null,
   "metadata": {},
   "outputs": [],
   "source": []
  }
 ],
 "metadata": {
  "kernelspec": {
   "display_name": "Python 3",
   "language": "python",
   "name": "python3"
  },
  "language_info": {
   "codemirror_mode": {
    "name": "ipython",
    "version": 3
   },
   "file_extension": ".py",
   "mimetype": "text/x-python",
   "name": "python",
   "nbconvert_exporter": "python",
   "pygments_lexer": "ipython3",
   "version": "3.6.7"
  }
 },
 "nbformat": 4,
 "nbformat_minor": 2
}
