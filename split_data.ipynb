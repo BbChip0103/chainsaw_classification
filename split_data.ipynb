{
 "cells": [
  {
   "cell_type": "code",
   "execution_count": 3,
   "metadata": {},
   "outputs": [],
   "source": [
    "import os\n",
    "from sklearn.model_selection import train_test_split\n",
    "import shutil\n",
    "import pandas as pd"
   ]
  },
  {
   "cell_type": "code",
   "execution_count": 4,
   "metadata": {},
   "outputs": [],
   "source": [
    "base_dir = '../'\n",
    "chainsaw_dir = base_dir+'ESC-50-master/wav_chainsaw_5sec/'\n",
    "no_chainsaw_dir = base_dir+'ESC-50-master/split_wav/'\n",
    "\n",
    "result_base_dir = base_dir+'data/'"
   ]
  },
  {
   "cell_type": "code",
   "execution_count": 3,
   "metadata": {
    "scrolled": true
   },
   "outputs": [],
   "source": [
    "merge_list = []\n",
    "\n",
    "chainsaw_filenames = [chainsaw_dir+filename for filename in os.listdir(chainsaw_dir)\n",
    "                         if filename.endswith('.wav')]\n",
    "chainsaw_filenames = [filename for filename in chainsaw_filenames\n",
    "                         if os.path.getsize(filename) == 441078]\n",
    "\n",
    "x_train_chainsaw, x_test_chainsaw \\\n",
    "    = train_test_split(chainsaw_filenames, test_size = 0.3, random_state = 7)\n",
    "x_train_chainsaw, x_val_chainsaw \\\n",
    "    = train_test_split(x_train_chainsaw, test_size = 0.3, random_state = 7)\n",
    "    \n",
    "merge_list += [(os.path.basename(filename), 1, 'train') for filename in x_train_chainsaw]\n",
    "merge_list += [(os.path.basename(filename), 1, 'val') for filename in x_val_chainsaw]\n",
    "merge_list += [(os.path.basename(filename), 1, 'test') for filename in x_test_chainsaw]\n",
    "\n",
    "os.makedirs(result_base_dir, exist_ok=True)\n",
    "for filename in chainsaw_filenames:\n",
    "    shutil.copy(filename, result_base_dir)\n",
    "\n",
    "no_chainsaw_dirs = [no_chainsaw_dir+dirname for dirname in os.listdir(no_chainsaw_dir)\n",
    "                       if os.path.isdir(no_chainsaw_dir+dirname)]\n",
    "for dirname in no_chainsaw_dirs:\n",
    "    no_chainsaw_filenames = [dirname+'/'+filename for filename in os.listdir(dirname)\n",
    "                             if filename.endswith('.wav')]\n",
    "    \n",
    "    x_train_no_chainsaw, x_test_no_chainsaw \\\n",
    "        = train_test_split(no_chainsaw_filenames, test_size = 0.33, random_state = 7)\n",
    "    x_train_no_chainsaw, x_val_no_chainsaw \\\n",
    "        = train_test_split(x_train_no_chainsaw, test_size = 0.33, random_state = 7)\n",
    "        \n",
    "    merge_list += [(os.path.basename(filename), 0, 'train') for filename in x_train_no_chainsaw]\n",
    "    merge_list += [(os.path.basename(filename), 0, 'val') for filename in x_val_no_chainsaw]\n",
    "    merge_list += [(os.path.basename(filename), 0, 'test') for filename in x_test_no_chainsaw]\n",
    "    \n",
    "    for filename in no_chainsaw_filenames:\n",
    "        shutil.copy(filename, result_base_dir)"
   ]
  },
  {
   "cell_type": "code",
   "execution_count": 4,
   "metadata": {},
   "outputs": [
    {
     "data": {
      "text/plain": [
       "[('1543_51.14.wav', 1, 'train'),\n",
       " ('593_50.04.wav', 1, 'train'),\n",
       " ('1469_4.35.wav', 1, 'train'),\n",
       " ('359_20.05.wav', 1, 'train'),\n",
       " ('396_267.27.wav', 1, 'train'),\n",
       " ('1355_498.5.wav', 1, 'train'),\n",
       " ('219_11.17.wav', 1, 'train'),\n",
       " ('777_54.17.wav', 1, 'train'),\n",
       " ('827_10.9.wav', 1, 'train'),\n",
       " ('806_10.42.wav', 1, 'train')]"
      ]
     },
     "execution_count": 4,
     "metadata": {},
     "output_type": "execute_result"
    }
   ],
   "source": [
    "merge_list[:10]"
   ]
  },
  {
   "cell_type": "code",
   "execution_count": 5,
   "metadata": {},
   "outputs": [
    {
     "ename": "NameError",
     "evalue": "name 'merge_list' is not defined",
     "output_type": "error",
     "traceback": [
      "\u001b[1;31m---------------------------------------------------------------------------\u001b[0m",
      "\u001b[1;31mNameError\u001b[0m                                 Traceback (most recent call last)",
      "\u001b[1;32m<ipython-input-5-071340c88742>\u001b[0m in \u001b[0;36m<module>\u001b[1;34m\u001b[0m\n\u001b[0;32m      1\u001b[0m df = pd.DataFrame({\n\u001b[1;32m----> 2\u001b[1;33m                     \u001b[1;34m'filename'\u001b[0m\u001b[1;33m:\u001b[0m\u001b[1;33m[\u001b[0m\u001b[0mfilename\u001b[0m \u001b[1;32mfor\u001b[0m \u001b[0mfilename\u001b[0m\u001b[1;33m,\u001b[0m \u001b[0m_\u001b[0m\u001b[1;33m,\u001b[0m \u001b[0m_\u001b[0m \u001b[1;32min\u001b[0m \u001b[0mmerge_list\u001b[0m\u001b[1;33m]\u001b[0m\u001b[1;33m,\u001b[0m\u001b[1;33m\u001b[0m\u001b[1;33m\u001b[0m\u001b[0m\n\u001b[0m\u001b[0;32m      3\u001b[0m                     \u001b[1;34m'label'\u001b[0m\u001b[1;33m:\u001b[0m\u001b[1;33m[\u001b[0m\u001b[0mlabel\u001b[0m \u001b[1;32mfor\u001b[0m \u001b[0m_\u001b[0m\u001b[1;33m,\u001b[0m \u001b[0mlabel\u001b[0m\u001b[1;33m,\u001b[0m \u001b[0m_\u001b[0m \u001b[1;32min\u001b[0m \u001b[0mmerge_list\u001b[0m\u001b[1;33m]\u001b[0m\u001b[1;33m,\u001b[0m\u001b[1;33m\u001b[0m\u001b[1;33m\u001b[0m\u001b[0m\n\u001b[0;32m      4\u001b[0m                     \u001b[1;34m'type'\u001b[0m\u001b[1;33m:\u001b[0m\u001b[1;33m[\u001b[0m\u001b[0mdata_type\u001b[0m \u001b[1;32mfor\u001b[0m \u001b[0m_\u001b[0m\u001b[1;33m,\u001b[0m \u001b[0m_\u001b[0m\u001b[1;33m,\u001b[0m \u001b[0mdata_type\u001b[0m \u001b[1;32min\u001b[0m \u001b[0mmerge_list\u001b[0m\u001b[1;33m]\u001b[0m\u001b[1;33m\u001b[0m\u001b[1;33m\u001b[0m\u001b[0m\n\u001b[0;32m      5\u001b[0m                   })\n",
      "\u001b[1;31mNameError\u001b[0m: name 'merge_list' is not defined"
     ]
    }
   ],
   "source": [
    "df = pd.DataFrame({\n",
    "                    'filename':[filename for filename, _, _ in merge_list],\n",
    "                    'label':[label for _, label, _ in merge_list],\n",
    "                    'type':[data_type for _, _, data_type in merge_list]\n",
    "                  })\n",
    "df = df.sample(frac=1).reset_index(drop=True)\n",
    "df.head"
   ]
  },
  {
   "cell_type": "code",
   "execution_count": 6,
   "metadata": {},
   "outputs": [
    {
     "ename": "NameError",
     "evalue": "name 'df' is not defined",
     "output_type": "error",
     "traceback": [
      "\u001b[1;31m---------------------------------------------------------------------------\u001b[0m",
      "\u001b[1;31mNameError\u001b[0m                                 Traceback (most recent call last)",
      "\u001b[1;32m<ipython-input-6-2b3706dc0bdf>\u001b[0m in \u001b[0;36m<module>\u001b[1;34m\u001b[0m\n\u001b[1;32m----> 1\u001b[1;33m \u001b[0mdf\u001b[0m\u001b[1;33m.\u001b[0m\u001b[0mto_csv\u001b[0m\u001b[1;33m(\u001b[0m\u001b[1;34m'data_annotations.csv'\u001b[0m\u001b[1;33m,\u001b[0m \u001b[0mindex\u001b[0m\u001b[1;33m=\u001b[0m\u001b[1;32mFalse\u001b[0m\u001b[1;33m)\u001b[0m\u001b[1;33m\u001b[0m\u001b[1;33m\u001b[0m\u001b[0m\n\u001b[0m",
      "\u001b[1;31mNameError\u001b[0m: name 'df' is not defined"
     ]
    }
   ],
   "source": [
    "df.to_csv('data_annotations.csv', index=False)"
   ]
  },
  {
   "cell_type": "code",
   "execution_count": 8,
   "metadata": {},
   "outputs": [],
   "source": [
    "df = pd.read_csv('data_annotations.csv')\n",
    "for idx, filename, label, data_type in df.itertuples():\n",
    "    result_dir = result_base_dir+data_type+'/'\n",
    "    os.makedirs(result_dir, exist_ok=True)\n",
    "    shutil.move(result_base_dir+filename, result_dir)"
   ]
  },
  {
   "cell_type": "code",
   "execution_count": null,
   "metadata": {},
   "outputs": [],
   "source": []
  }
 ],
 "metadata": {
  "kernelspec": {
   "display_name": "Python 3",
   "language": "python",
   "name": "python3"
  },
  "language_info": {
   "codemirror_mode": {
    "name": "ipython",
    "version": 3
   },
   "file_extension": ".py",
   "mimetype": "text/x-python",
   "name": "python",
   "nbconvert_exporter": "python",
   "pygments_lexer": "ipython3",
   "version": "3.6.7"
  }
 },
 "nbformat": 4,
 "nbformat_minor": 2
}
