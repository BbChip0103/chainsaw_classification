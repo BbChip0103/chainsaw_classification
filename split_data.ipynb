{
 "cells": [
  {
   "cell_type": "code",
   "execution_count": 1,
   "metadata": {},
   "outputs": [],
   "source": [
    "import os\n",
    "from sklearn.model_selection import train_test_split\n",
    "import shutil\n",
    "import pandas as pd"
   ]
  },
  {
   "cell_type": "code",
   "execution_count": 2,
   "metadata": {},
   "outputs": [],
   "source": [
    "base_dir = '/data/private/SU/bbchip13/chainsaw_classification/'\n",
    "chainsaw_dir = base_dir+'wav_chainsaw_5sec/'\n",
    "no_chainsaw_dir = base_dir+'/ESC-50-master/split_wav/'\n",
    "\n",
    "result_base_dir = base_dir+'data/'"
   ]
  },
  {
   "cell_type": "code",
   "execution_count": 3,
   "metadata": {
    "scrolled": true
   },
   "outputs": [],
   "source": [
    "merge_list = []\n",
    "\n",
    "chainsaw_filenames = [chainsaw_dir+filename for filename in os.listdir(chainsaw_dir)\n",
    "                         if filename.endswith('.wav')]\n",
    "chainsaw_filenames = [filename for filename in chainsaw_filenames\n",
    "                         if os.path.getsize(filename) == 441078]\n",
    "\n",
    "x_train_chainsaw, x_test_chainsaw \\\n",
    "    = train_test_split(chainsaw_filenames, test_size = 0.3, random_state = 7)\n",
    "x_train_chainsaw, x_val_chainsaw \\\n",
    "    = train_test_split(x_train_chainsaw, test_size = 0.3, random_state = 7)\n",
    "    \n",
    "merge_list += [(os.path.basename(filename), 1, 'train') for filename in x_train_chainsaw]\n",
    "merge_list += [(os.path.basename(filename), 1, 'val') for filename in x_val_chainsaw]\n",
    "merge_list += [(os.path.basename(filename), 1, 'test') for filename in x_test_chainsaw]\n",
    "\n",
    "os.makedirs(result_base_dir, exist_ok=True)\n",
    "for filename in chainsaw_filenames:\n",
    "    shutil.copy(filename, result_base_dir)\n",
    "\n",
    "no_chainsaw_dirs = [no_chainsaw_dir+dirname for dirname in os.listdir(no_chainsaw_dir)\n",
    "                       if os.path.isdir(no_chainsaw_dir+dirname)]\n",
    "for dirname in no_chainsaw_dirs:\n",
    "    no_chainsaw_filenames = [dirname+'/'+filename for filename in os.listdir(dirname)\n",
    "                             if filename.endswith('.wav')]\n",
    "    \n",
    "    x_train_no_chainsaw, x_test_no_chainsaw \\\n",
    "        = train_test_split(no_chainsaw_filenames, test_size = 0.33, random_state = 7)\n",
    "    x_train_no_chainsaw, x_val_no_chainsaw \\\n",
    "        = train_test_split(x_train_no_chainsaw, test_size = 0.33, random_state = 7)\n",
    "        \n",
    "    merge_list += [(os.path.basename(filename), 0, 'train') for filename in x_train_no_chainsaw]\n",
    "    merge_list += [(os.path.basename(filename), 0, 'val') for filename in x_val_no_chainsaw]\n",
    "    merge_list += [(os.path.basename(filename), 0, 'test') for filename in x_test_no_chainsaw]\n",
    "    \n",
    "    for filename in no_chainsaw_filenames:\n",
    "        shutil.copy(filename, result_base_dir)"
   ]
  },
  {
   "cell_type": "code",
   "execution_count": 4,
   "metadata": {},
   "outputs": [
    {
     "data": {
      "text/plain": [
       "[('1543_51.14.wav', 1, 'train'),\n",
       " ('593_50.04.wav', 1, 'train'),\n",
       " ('1469_4.35.wav', 1, 'train'),\n",
       " ('359_20.05.wav', 1, 'train'),\n",
       " ('396_267.27.wav', 1, 'train'),\n",
       " ('1355_498.5.wav', 1, 'train'),\n",
       " ('219_11.17.wav', 1, 'train'),\n",
       " ('777_54.17.wav', 1, 'train'),\n",
       " ('827_10.9.wav', 1, 'train'),\n",
       " ('806_10.42.wav', 1, 'train')]"
      ]
     },
     "execution_count": 4,
     "metadata": {},
     "output_type": "execute_result"
    }
   ],
   "source": [
    "merge_list[:10]"
   ]
  },
  {
   "cell_type": "code",
   "execution_count": 5,
   "metadata": {},
   "outputs": [
    {
     "data": {
      "text/plain": [
       "<bound method NDFrame.head of                filename  label   type\n",
       "0       1247_387.72.wav      1  train\n",
       "1     4-161127-A-10.wav      0  train\n",
       "2          827_10.9.wav      1  train\n",
       "3       1332_107.15.wav      1   test\n",
       "4     4-163609-B-16.wav      0    val\n",
       "5     3-160119-A-15.wav      0   test\n",
       "6     4-161105-A-47.wav      0  train\n",
       "7     3-177082-A-22.wav      0  train\n",
       "8         237_20.03.wav      1  train\n",
       "9          190_7.23.wav      1    val\n",
       "10        571_54.48.wav      1   test\n",
       "11        361_199.6.wav      1    val\n",
       "12      1211_140.47.wav      1  train\n",
       "13    3-103401-D-33.wav      0   test\n",
       "14        532_21.04.wav      1  train\n",
       "15         309_0.78.wav      1  train\n",
       "16        448_53.25.wav      1    val\n",
       "17        435_45.64.wav      1    val\n",
       "18    1-101296-B-19.wav      0    val\n",
       "19      1165_104.69.wav      1    val\n",
       "20       783_104.47.wav      1   test\n",
       "21         49_10.19.wav      1   test\n",
       "22      1198_241.64.wav      1  train\n",
       "23    2-106486-A-44.wav      0  train\n",
       "24    4-191297-A-28.wav      0   test\n",
       "25        146_18.61.wav      1   test\n",
       "26       360_136.28.wav      1  train\n",
       "27     2-39945-B-19.wav      0  train\n",
       "28        572_29.12.wav      1  train\n",
       "29        710_29.49.wav      1   test\n",
       "...                 ...    ...    ...\n",
       "3281   1-24796-A-47.wav      0    val\n",
       "3282   1-26222-A-10.wav      0   test\n",
       "3283   3-146972-A-5.wav      0   test\n",
       "3284  5-213293-A-23.wav      0   test\n",
       "3285    1333_503.77.wav      1   test\n",
       "3286      977_29.72.wav      1  train\n",
       "3287      841_81.44.wav      1    val\n",
       "3288  3-145774-A-12.wav      0  train\n",
       "3289     1120_54.36.wav      1  train\n",
       "3290       60_33.15.wav      1   test\n",
       "3291    1567_319.62.wav      1  train\n",
       "3292   4-133895-A-7.wav      0  train\n",
       "3293    3-70962-B-4.wav      0   test\n",
       "3294      574_16.68.wav      1   test\n",
       "3295     769_104.62.wav      1  train\n",
       "3296     1001_78.63.wav      1   test\n",
       "3297     1280_182.9.wav      1  train\n",
       "3298      1033_0.12.wav      1  train\n",
       "3299     1008_10.08.wav      1   test\n",
       "3300  1-155858-E-25.wav      0    val\n",
       "3301     1335_60.02.wav      1   test\n",
       "3302     513_213.54.wav      1   test\n",
       "3303     1197_237.4.wav      1  train\n",
       "3304      793_70.51.wav      1  train\n",
       "3305    1313_995.48.wav      1    val\n",
       "3306     157_248.98.wav      1    val\n",
       "3307       444_73.3.wav      1  train\n",
       "3308       90_28.14.wav      1    val\n",
       "3309    2-81970-C-7.wav      0  train\n",
       "3310   1-46040-A-14.wav      0  train\n",
       "\n",
       "[3311 rows x 3 columns]>"
      ]
     },
     "execution_count": 5,
     "metadata": {},
     "output_type": "execute_result"
    }
   ],
   "source": [
    "df = pd.DataFrame({\n",
    "                    'filename':[filename for filename, _, _ in merge_list],\n",
    "                    'label':[label for _, label, _ in merge_list],\n",
    "                    'type':[data_type for _, _, data_type in merge_list]\n",
    "                  })\n",
    "df = df.sample(frac=1).reset_index(drop=True)\n",
    "df.head"
   ]
  },
  {
   "cell_type": "code",
   "execution_count": 6,
   "metadata": {},
   "outputs": [],
   "source": [
    "df.to_csv('data_annotations.csv', index=False)"
   ]
  },
  {
   "cell_type": "code",
   "execution_count": 7,
   "metadata": {},
   "outputs": [],
   "source": [
    "df = pd.read_csv('data_annotations.csv')\n",
    "for idx, filename, label, data_type in df.itertuples():\n",
    "    result_dir = result_base_dir+data_type+'/'\n",
    "    os.makedirs(result_dir, exist_ok=True)\n",
    "    shutil.move(result_base_dir+filename, result_dir)"
   ]
  },
  {
   "cell_type": "code",
   "execution_count": null,
   "metadata": {},
   "outputs": [],
   "source": []
  }
 ],
 "metadata": {
  "kernelspec": {
   "display_name": "Python 3",
   "language": "python",
   "name": "python3"
  },
  "language_info": {
   "codemirror_mode": {
    "name": "ipython",
    "version": 3
   },
   "file_extension": ".py",
   "mimetype": "text/x-python",
   "name": "python",
   "nbconvert_exporter": "python",
   "pygments_lexer": "ipython3",
   "version": "3.5.2"
  }
 },
 "nbformat": 4,
 "nbformat_minor": 2
}
