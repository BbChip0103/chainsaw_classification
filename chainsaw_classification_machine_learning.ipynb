{
 "cells": [
  {
   "cell_type": "code",
   "execution_count": 1,
   "metadata": {},
   "outputs": [],
   "source": [
    "import os\n",
    "import pandas as pd\n",
    "import numpy as np\n",
    "\n",
    "import sklearn\n",
    "from sklearn.model_selection import train_test_split\n",
    "from sklearn import linear_model\n",
    "from sklearn.svm import LinearSVC, SVC\n",
    "from sklearn.metrics import accuracy_score, f1_score\n",
    "from sklearn.externals import joblib\n",
    "from sklearn.preprocessing import StandardScaler\n",
    "\n",
    "import librosa\n",
    "import librosa.display\n",
    "\n",
    "from tqdm import tqdm\n",
    "import matplotlib.pyplot as plt\n",
    "\n",
    "% matplotlib inline\n",
    "np.random.seed(7)"
   ]
  },
  {
   "cell_type": "code",
   "execution_count": 2,
   "metadata": {},
   "outputs": [],
   "source": [
    "base_dir = '/data/private/SU/bbchip13/chainsaw_classification/data/'\n",
    "train_dir = base_dir+'train/'\n",
    "val_dir = base_dir+'val/'\n",
    "test_dir = base_dir+'test/'"
   ]
  },
  {
   "cell_type": "code",
   "execution_count": 3,
   "metadata": {},
   "outputs": [],
   "source": [
    "def load_wavs(filenames):\n",
    "    return np.asarray([librosa.load(filename)[0] for filename in tqdm(filenames)])\n",
    "\n",
    "### If you have lack of memory, Use this\n",
    "#     wav = librosa.load(filenames[0])\n",
    "#     wavs = np.zeros( (len(filenames), wav.shape[0]) )\n",
    "#     for i, filename in enumerate(filenames):\n",
    "#         wavs[i][:] = librosa.load(filename)[:]\n",
    "#     return wavs\n",
    "    \n",
    "def find_y_by_filename(filename, y_dict):\n",
    "    basename = os.path.basename(filename)\n",
    "    y = y_dict[basename]\n",
    "    return y\n",
    "\n",
    "def make_y_by_filenames(filenames, y_dict):\n",
    "    return np.asarray([find_y_by_filename(filename, y_dict) \n",
    "                           for filename in filenames])\n",
    "\n",
    "def make_xy_data(filenames, y_dict):\n",
    "    x_train = load_wavs(filenames)\n",
    "    y_train = make_y_by_filenames(filenames, y_dict)\n",
    "    return x_train, y_train"
   ]
  },
  {
   "cell_type": "code",
   "execution_count": 4,
   "metadata": {},
   "outputs": [],
   "source": [
    "### Make Y data\n",
    "annotations_filename = 'data_annotations.csv'\n",
    "df = pd.read_csv(annotations_filename)\n",
    "y_dict = {filename:int(label) for _, filename, label, _ in df.itertuples()}\n",
    "# y_dict"
   ]
  },
  {
   "cell_type": "code",
   "execution_count": 5,
   "metadata": {},
   "outputs": [
    {
     "name": "stderr",
     "output_type": "stream",
     "text": [
      "\r",
      "  0%|          | 0/2257 [00:00<?, ?it/s]"
     ]
    },
    {
     "name": "stdout",
     "output_type": "stream",
     "text": [
      "Make train data.......\n"
     ]
    },
    {
     "name": "stderr",
     "output_type": "stream",
     "text": [
      "100%|██████████| 2257/2257 [10:43<00:00,  3.45it/s]\n"
     ]
    },
    {
     "name": "stdout",
     "output_type": "stream",
     "text": [
      "(2257, 110250) (2257,)\n"
     ]
    }
   ],
   "source": [
    "print('Make train data.......')\n",
    "x_train_wav_filenames = [train_dir+filename for filename in os.listdir(train_dir)\n",
    "                            if filename.endswith('.wav')]\n",
    "x_val_wav_filenames = [val_dir+filename for filename in os.listdir(val_dir)\n",
    "                            if filename.endswith('.wav')]\n",
    "x_train_wav_filenames += x_val_wav_filenames\n",
    "x_train_wavs, y_train = make_xy_data(x_train_wav_filenames, y_dict)\n",
    "\n",
    "print(x_train_wavs.shape, y_train.shape)"
   ]
  },
  {
   "cell_type": "code",
   "execution_count": 6,
   "metadata": {},
   "outputs": [],
   "source": [
    "def preprocess(wav):\n",
    "    wav = sklearn.preprocessing.minmax_scale(wav, feature_range=(-1, 1))\n",
    "    wav_mfcc = librosa.feature.mfcc(y=wav, n_mfcc=13)\n",
    "    wav_mfcc_std = StandardScaler().fit_transform(wav_mfcc)\n",
    "    wav_mfcc_std = wav_mfcc_std.mean(axis=1)\n",
    "    \n",
    "    features = np.concatenate([wav_mfcc_std])\n",
    "    return features\n",
    "\n",
    "def train(x_train_wavs, y_train):\n",
    "    x_train = np.apply_along_axis(preprocess, 1, x_train_wavs)\n",
    "\n",
    "    logreg = linear_model.LogisticRegression()\n",
    "    logreg.fit(x_train, y_train)\n",
    "    print('Logistic Regression Score:', logreg.score(x_train, y_train))\n",
    "    joblib.dump(logreg, 'logreg_chainsaw.pkl')\n",
    "    \n",
    "    linear_svc = LinearSVC()\n",
    "    linear_svc.fit(x_train, y_train)\n",
    "    print('Linear SVM Score:', linear_svc.score(x_train, y_train))\n",
    "    joblib.dump(linear_svc, 'linear_svc_chainsaw.pkl') \n",
    "\n",
    "    kernel_svc = SVC()\n",
    "    kernel_svc.fit(x_train, y_train)\n",
    "    print('Kernel SVM Score:', kernel_svc.score(x_train, y_train))\n",
    "    joblib.dump(kernel_svc, 'kernel_svc_chainsaw.pkl')\n",
    "\n",
    "    print()\n",
    "\n",
    "def test(x_test_wavs, y_test):\n",
    "    x_test = np.apply_along_axis(preprocess, 1, x_test_wavs)\n",
    "\n",
    "    clf = joblib.load('logreg_chainsaw.pkl')\n",
    "    %timeit -n 100 -r 10 clf.predict(x_test)\n",
    "    y_test_estimated = clf.predict(x_test)\n",
    "    print('Logistic Regression Accuracy:', accuracy_score(y_test_estimated, y_test))\n",
    "    print('Logistic Regression F1 Score:', f1_score(y_test, y_test_estimated))\n",
    "    print()\n",
    "    \n",
    "    clf = joblib.load('linear_svc_chainsaw.pkl')\n",
    "    %timeit -n 100 -r 10 clf.predict(x_test)\n",
    "    y_test_estimated = clf.predict(x_test)\n",
    "    print('Linear SVM Accuracy:', accuracy_score(y_test_estimated, y_test))\n",
    "    print('Linear SVM F1 Score:', f1_score(y_test, y_test_estimated))\n",
    "    print()\n",
    "    \n",
    "    clf = joblib.load('kernel_svc_chainsaw.pkl')\n",
    "    x_test = np.apply_along_axis(preprocess, 1, x_test_wavs)\n",
    "    %timeit -n 100 -r 10 clf.predict(x_test)\n",
    "    y_test_estimated = clf.predict(x_test)\n",
    "    print('Kernel SVM Accuracy:', accuracy_score(y_test_estimated, y_test))\n",
    "    print('Kernel SVM F1 Score:', f1_score(y_test, y_test_estimated))\n",
    "    print()"
   ]
  },
  {
   "cell_type": "code",
   "execution_count": 7,
   "metadata": {
    "scrolled": true
   },
   "outputs": [
    {
     "name": "stderr",
     "output_type": "stream",
     "text": [
      "/usr/local/lib/python3.5/dist-packages/sklearn/linear_model/logistic.py:433: FutureWarning: Default solver will be changed to 'lbfgs' in 0.22. Specify a solver to silence this warning.\n",
      "  FutureWarning)\n",
      "/usr/local/lib/python3.5/dist-packages/sklearn/svm/base.py:196: FutureWarning: The default value of gamma will change from 'auto' to 'scale' in version 0.22 to account better for unscaled features. Set gamma explicitly to 'auto' or 'scale' to avoid this warning.\n",
      "  \"avoid this warning.\", FutureWarning)\n"
     ]
    },
    {
     "name": "stdout",
     "output_type": "stream",
     "text": [
      "Logistic Regression Score: 0.9317678334071776\n",
      "Linear SVM Score: 0.9322108994240141\n",
      "Kernel SVM Score: 0.9472751439964555\n",
      "\n"
     ]
    }
   ],
   "source": [
    "train(x_train_wavs, y_train)"
   ]
  },
  {
   "cell_type": "code",
   "execution_count": 8,
   "metadata": {},
   "outputs": [
    {
     "name": "stderr",
     "output_type": "stream",
     "text": [
      "\r",
      "  0%|          | 0/1054 [00:00<?, ?it/s]"
     ]
    },
    {
     "name": "stdout",
     "output_type": "stream",
     "text": [
      "Make test data.......\n"
     ]
    },
    {
     "name": "stderr",
     "output_type": "stream",
     "text": [
      "100%|██████████| 1054/1054 [05:00<00:00,  3.50it/s]\n"
     ]
    }
   ],
   "source": [
    "print('Make test data.......')\n",
    "x_test_wav_filenames = [test_dir+filename for filename in os.listdir(test_dir)\n",
    "                            if filename.endswith('.wav')]\n",
    "x_test_wavs, y_test = make_xy_data(x_test_wav_filenames, y_dict)"
   ]
  },
  {
   "cell_type": "code",
   "execution_count": 9,
   "metadata": {},
   "outputs": [
    {
     "name": "stdout",
     "output_type": "stream",
     "text": [
      "The slowest run took 8.44 times longer than the fastest. This could mean that an intermediate result is being cached.\n",
      "906 µs ± 262 µs per loop (mean ± std. dev. of 10 runs, 100 loops each)\n",
      "Logistic Regression Accuracy: 0.9364326375711575\n",
      "Logistic Regression F1 Score: 0.9477786438035852\n",
      "\n",
      "The slowest run took 21.93 times longer than the fastest. This could mean that an intermediate result is being cached.\n",
      "7.5 ms ± 5.48 ms per loop (mean ± std. dev. of 10 runs, 100 loops each)\n",
      "Linear SVM Accuracy: 0.9335863377609108\n",
      "Linear SVM F1 Score: 0.9454828660436139\n",
      "\n",
      "20 ms ± 146 µs per loop (mean ± std. dev. of 10 runs, 100 loops each)\n",
      "Kernel SVM Accuracy: 0.9516129032258065\n",
      "Kernel SVM F1 Score: 0.9606177606177606\n",
      "\n"
     ]
    }
   ],
   "source": [
    "test(x_test_wavs, y_test)"
   ]
  },
  {
   "cell_type": "code",
   "execution_count": null,
   "metadata": {},
   "outputs": [],
   "source": []
  }
 ],
 "metadata": {
  "kernelspec": {
   "display_name": "Python 3",
   "language": "python",
   "name": "python3"
  },
  "language_info": {
   "codemirror_mode": {
    "name": "ipython",
    "version": 3
   },
   "file_extension": ".py",
   "mimetype": "text/x-python",
   "name": "python",
   "nbconvert_exporter": "python",
   "pygments_lexer": "ipython3",
   "version": "3.5.2"
  }
 },
 "nbformat": 4,
 "nbformat_minor": 2
}
