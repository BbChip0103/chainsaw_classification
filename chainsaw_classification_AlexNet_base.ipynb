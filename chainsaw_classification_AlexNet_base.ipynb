{
 "cells": [
  {
   "cell_type": "markdown",
   "metadata": {
    "colab_type": "text",
    "id": "-fWomgC-kF5f"
   },
   "source": [
    "**Architecture **\n",
    "\n",
    "<img src=\"http://drive.google.com/uc?export=view&id=12JomC2IswVbNGdE0IIvPpUk8vPjP-MBQ\"  alt=\"artchtecture\">\n",
    "\n",
    "\n",
    "---\n",
    "\n"
   ]
  },
  {
   "cell_type": "markdown",
   "metadata": {
    "colab_type": "text",
    "id": "uN7hQRZsDbgI"
   },
   "source": [
    "(1) Importing dependency"
   ]
  },
  {
   "cell_type": "code",
   "execution_count": 17,
   "metadata": {
    "colab": {
     "base_uri": "https://localhost:8080/",
     "height": 34
    },
    "colab_type": "code",
    "id": "3lPxjI5BDAkX",
    "outputId": "88280284-3c51-485b-adfa-4c428507fb92"
   },
   "outputs": [],
   "source": [
    "import keras\n",
    "from keras.models import Sequential, load_model\n",
    "from keras.layers import Dense, Activation, Dropout, Flatten,\\\n",
    "                         Conv1D, MaxPooling1D\n",
    "from keras.layers.normalization import BatchNormalization\n",
    "from keras.callbacks import ModelCheckpoint\n",
    "\n",
    "import sklearn\n",
    "from sklearn.model_selection import train_test_split\n",
    "from sklearn.metrics import f1_score\n",
    "\n",
    "import pandas as pd\n",
    "import librosa\n",
    "from tqdm import tqdm_notebook as tqdm\n",
    "import os\n",
    "\n",
    "import numpy as np\n",
    "np.random.seed(13)\n",
    "import random\n",
    "random.seed(13)\n",
    "\n",
    "import matplotlib.pyplot as plt\n",
    "% matplotlib inline"
   ]
  },
  {
   "cell_type": "markdown",
   "metadata": {
    "colab_type": "text",
    "id": "py5KMVLnDZsC"
   },
   "source": [
    "(2) Get Data"
   ]
  },
  {
   "cell_type": "code",
   "execution_count": 18,
   "metadata": {},
   "outputs": [],
   "source": [
    "base_dir = '/data/private/SU/bbchip13/chainsaw_classification/data/'\n",
    "chainsaw_wav_dir = base_dir+'chainsaw/'\n",
    "other_wav_dir = base_dir+'no_chainsaw/'"
   ]
  },
  {
   "cell_type": "code",
   "execution_count": 19,
   "metadata": {},
   "outputs": [],
   "source": [
    "chainsaw_list = [chainsaw_wav_dir+filename for filename in os.listdir(chainsaw_wav_dir) \n",
    "                 if filename.endswith('.wav')]\n",
    "chainsaw_list = sklearn.utils.shuffle(chainsaw_list)\n",
    "# chainsaw_list = chainsaw_list[:1200]\n",
    "chainsaw_list = chainsaw_list\n",
    "chainsaw_labels = np.ones(len(chainsaw_list))\n",
    "\n",
    "no_chainsaw_list = [other_wav_dir+filename for filename in os.listdir(other_wav_dir)\n",
    "                    if filename.endswith('.wav')]\n",
    "no_chainsaw_list = sklearn.utils.shuffle(no_chainsaw_list)\n",
    "# no_chainsaw_list = no_chainsaw_list[:1200]\n",
    "no_chainsaw_list = no_chainsaw_list\n",
    "no_chainsaw_labels = np.zeros(len(no_chainsaw_list))"
   ]
  },
  {
   "cell_type": "code",
   "execution_count": 20,
   "metadata": {},
   "outputs": [],
   "source": [
    "def load_wavs(filenames):\n",
    "    return np.asarray([librosa.load(filename)[0] for filename in tqdm(filenames)])\n",
    "\n",
    "### If you have lack of memory, Use this\n",
    "#     wav = librosa.load(filenames[0])\n",
    "#     wavs = np.zeros( (len(filenames), wav.shape[0]) )\n",
    "#     for i, filename in enumerate(filenames):\n",
    "#         wavs[i][:] = librosa.load(filename)[:]\n",
    "#     return wavs"
   ]
  },
  {
   "cell_type": "code",
   "execution_count": 21,
   "metadata": {},
   "outputs": [
    {
     "name": "stdout",
     "output_type": "stream",
     "text": [
      "Load Train Data......\n"
     ]
    },
    {
     "data": {
      "application/vnd.jupyter.widget-view+json": {
       "model_id": "0adba7efe92b44e0ada4abc381741220",
       "version_major": 2,
       "version_minor": 0
      },
      "text/plain": [
       "HBox(children=(IntProgress(value=0, max=2218), HTML(value='')))"
      ]
     },
     "metadata": {},
     "output_type": "display_data"
    },
    {
     "name": "stdout",
     "output_type": "stream",
     "text": [
      "\n",
      "Load Test Data......\n"
     ]
    },
    {
     "data": {
      "application/vnd.jupyter.widget-view+json": {
       "model_id": "4c1f7f8d71524d7d942d08740281c702",
       "version_major": 2,
       "version_minor": 0
      },
      "text/plain": [
       "HBox(children=(IntProgress(value=0, max=1093), HTML(value='')))"
      ]
     },
     "metadata": {},
     "output_type": "display_data"
    },
    {
     "name": "stdout",
     "output_type": "stream",
     "text": [
      "\n",
      "(2218, 110250, 1) (2218, 1) (1093, 110250, 1) (1093, 1)\n"
     ]
    }
   ],
   "source": [
    "x_train_chainsaw, x_test_chainsaw, y_train_chainsaw, y_test_chainsaw \\\n",
    "    = train_test_split(chainsaw_list, chainsaw_labels, test_size = 0.33, random_state = 7)\n",
    "x_train_no_chainsaw, x_test_no_chainsaw, y_train_no_chainsaw, y_test_no_chainsaw \\\n",
    "    = train_test_split(no_chainsaw_list, no_chainsaw_labels, test_size = 0.33, random_state = 7)\n",
    "\n",
    "x_train_filenames = x_train_chainsaw+x_train_no_chainsaw\n",
    "y_train = np.concatenate([y_train_chainsaw, y_train_no_chainsaw])\n",
    "\n",
    "x_test_filenames = x_test_chainsaw+x_test_no_chainsaw\n",
    "y_test = np.concatenate([y_test_chainsaw, y_test_no_chainsaw])\n",
    "\n",
    "x_train_filenames, y_train = sklearn.utils.shuffle(x_train_filenames, y_train)\n",
    "x_test_filenames, y_test = sklearn.utils.shuffle(x_test_filenames, y_test)\n",
    "\n",
    "print('Load Train Data......')\n",
    "x_train = load_wavs(x_train_filenames)\n",
    "print('Load Test Data......')\n",
    "x_test = load_wavs(x_test_filenames)\n",
    "\n",
    "x_train = np.reshape(x_train, (*x_train.shape, 1))\n",
    "y_train = np.reshape(y_train, (*y_train.shape, 1))\n",
    "x_test = np.reshape(x_test, (*x_test.shape, 1))\n",
    "y_test = np.reshape(y_test, (*y_test.shape, 1))\n",
    "\n",
    "print(x_train.shape, y_train.shape, x_test.shape, y_test.shape)"
   ]
  },
  {
   "cell_type": "markdown",
   "metadata": {
    "colab_type": "text",
    "id": "12cS85jvDnfS"
   },
   "source": [
    "(3) Create a sequential model"
   ]
  },
  {
   "cell_type": "code",
   "execution_count": 22,
   "metadata": {
    "colab": {},
    "colab_type": "code",
    "id": "4GDedqMJcJYr"
   },
   "outputs": [],
   "source": [
    "### Define Parametric Softplus\n",
    "\n",
    "# alpha * log(1 + exp(beta * x))\n",
    "def ParametricSoftplus(alpha=0.2, beta=5.0):\n",
    "  return lambda x: alpha * keras.activations.softplus(beta * x)"
   ]
  },
  {
   "cell_type": "code",
   "execution_count": 23,
   "metadata": {
    "colab": {
     "base_uri": "https://localhost:8080/",
     "height": 985
    },
    "colab_type": "code",
    "id": "fs8Heys2Dm30",
    "outputId": "bad14ede-be9c-4a2f-d052-9d9a29a5e437"
   },
   "outputs": [
    {
     "name": "stdout",
     "output_type": "stream",
     "text": [
      "_________________________________________________________________\n",
      "Layer (type)                 Output Shape              Param #   \n",
      "=================================================================\n",
      "conv1d_6 (Conv1D)            (None, 6891, 48)          5856      \n",
      "_________________________________________________________________\n",
      "activation_9 (Activation)    (None, 6891, 48)          0         \n",
      "_________________________________________________________________\n",
      "batch_normalization_3 (Batch (None, 6891, 48)          192       \n",
      "_________________________________________________________________\n",
      "max_pooling1d_4 (MaxPooling1 (None, 1723, 48)          0         \n",
      "_________________________________________________________________\n",
      "conv1d_7 (Conv1D)            (None, 1723, 128)         153728    \n",
      "_________________________________________________________________\n",
      "activation_10 (Activation)   (None, 1723, 128)         0         \n",
      "_________________________________________________________________\n",
      "batch_normalization_4 (Batch (None, 1723, 128)         512       \n",
      "_________________________________________________________________\n",
      "max_pooling1d_5 (MaxPooling1 (None, 431, 128)          0         \n",
      "_________________________________________________________________\n",
      "conv1d_8 (Conv1D)            (None, 431, 192)          221376    \n",
      "_________________________________________________________________\n",
      "activation_11 (Activation)   (None, 431, 192)          0         \n",
      "_________________________________________________________________\n",
      "conv1d_9 (Conv1D)            (None, 431, 192)          331968    \n",
      "_________________________________________________________________\n",
      "activation_12 (Activation)   (None, 431, 192)          0         \n",
      "_________________________________________________________________\n",
      "conv1d_10 (Conv1D)           (None, 431, 128)          221312    \n",
      "_________________________________________________________________\n",
      "activation_13 (Activation)   (None, 431, 128)          0         \n",
      "_________________________________________________________________\n",
      "max_pooling1d_6 (MaxPooling1 (None, 108, 128)          0         \n",
      "_________________________________________________________________\n",
      "flatten_2 (Flatten)          (None, 13824)             0         \n",
      "_________________________________________________________________\n",
      "dense_4 (Dense)              (None, 4096)              56627200  \n",
      "_________________________________________________________________\n",
      "activation_14 (Activation)   (None, 4096)              0         \n",
      "_________________________________________________________________\n",
      "dropout_3 (Dropout)          (None, 4096)              0         \n",
      "_________________________________________________________________\n",
      "dense_5 (Dense)              (None, 4096)              16781312  \n",
      "_________________________________________________________________\n",
      "activation_15 (Activation)   (None, 4096)              0         \n",
      "_________________________________________________________________\n",
      "dropout_4 (Dropout)          (None, 4096)              0         \n",
      "_________________________________________________________________\n",
      "dense_6 (Dense)              (None, 1)                 4097      \n",
      "_________________________________________________________________\n",
      "activation_16 (Activation)   (None, 1)                 0         \n",
      "=================================================================\n",
      "Total params: 74,347,553\n",
      "Trainable params: 74,347,201\n",
      "Non-trainable params: 352\n",
      "_________________________________________________________________\n"
     ]
    }
   ],
   "source": [
    "model=Sequential()\n",
    "\n",
    "# 1st Convolutional Layer (conv1)\n",
    "model.add(Conv1D (kernel_size=121, filters=48, strides=16, padding='same',\n",
    "#                   input_shape=x_train.shape[1:]))\n",
    "                  input_shape=(110250, 1)))\n",
    "\n",
    "model.add(Activation(ParametricSoftplus(alpha=0.2, beta=0.5)))\n",
    "model.add(BatchNormalization())\n",
    "\n",
    "# Pooling (pool1)\n",
    "model.add(MaxPooling1D(pool_size=9, strides=4, padding='same'))\n",
    "\n",
    "# 2nd Convolutional Layer (conv2)\n",
    "model.add(Conv1D (kernel_size=25, filters=128, padding='same'))\n",
    "model.add(Activation(ParametricSoftplus(alpha=0.2, beta=0.5)))\n",
    "model.add(BatchNormalization())\n",
    "\n",
    "# Pooling (pool2)\n",
    "model.add(MaxPooling1D(pool_size=9, strides=4, padding='same'))\n",
    "\n",
    "# 3rd Convolutional Layer (conv3)\n",
    "model.add(Conv1D (kernel_size=9, filters=192, padding='same'))\n",
    "model.add(Activation(ParametricSoftplus(alpha=0.2, beta=0.5)))\n",
    "\n",
    "# 4rd Convolutional Layer (conv4)\n",
    "model.add(Conv1D (kernel_size=9, filters=192, padding='same'))\n",
    "model.add(Activation(ParametricSoftplus(alpha=0.2, beta=0.5)))\n",
    "\n",
    "# 5rd Convolutional Layer (conv5)\n",
    "model.add(Conv1D (kernel_size=9, filters=128, padding='same'))\n",
    "model.add(Activation(ParametricSoftplus(alpha=0.2, beta=0.5)))\n",
    "\n",
    "# Pooling (pool5)\n",
    "model.add(MaxPooling1D(pool_size=9, strides=4, padding='same'))\n",
    "\n",
    "# 1st Dense Layer (full6)\n",
    "model.add(Flatten())\n",
    "model.add(Dense(4096))\n",
    "model.add(Activation(ParametricSoftplus(alpha=0.2, beta=0.5)))\n",
    "model.add(Dropout(0.5)) # Drop-out value is not specified in the paper\n",
    "\n",
    "# 2nd Dense Layer (full7)\n",
    "model.add(Dense(4096))\n",
    "model.add(Activation(ParametricSoftplus(alpha=0.2, beta=0.5)))\n",
    "model.add(Dropout(0.5))\n",
    "\n",
    "# Output Layer (full8)\n",
    "model.add(Dense(1))\n",
    "model.add(Activation('sigmoid'))\n",
    "\n",
    "model.summary()"
   ]
  },
  {
   "cell_type": "markdown",
   "metadata": {
    "colab_type": "text",
    "id": "RLxfqHNxDuJq"
   },
   "source": [
    "(4) Compile "
   ]
  },
  {
   "cell_type": "code",
   "execution_count": 24,
   "metadata": {
    "colab": {},
    "colab_type": "code",
    "id": "5jPB8IbZDxeJ"
   },
   "outputs": [],
   "source": [
    "adam_with_params = keras.optimizers.Adam(lr=0.0002, beta_1=0.1, beta_2=0.999, \n",
    "                                         epsilon=1e-8)\n",
    "model.compile(loss='binary_crossentropy', optimizer=adam_with_params,\n",
    "              metrics=['accuracy'])"
   ]
  },
  {
   "cell_type": "markdown",
   "metadata": {
    "colab_type": "text",
    "id": "VUsuRj-7Dzxx"
   },
   "source": [
    "(5) Train"
   ]
  },
  {
   "cell_type": "code",
   "execution_count": 25,
   "metadata": {},
   "outputs": [],
   "source": [
    "model_path = 'AlexNet_based_check_point/'\n",
    "os.makedirs(model_path, exist_ok=True)\n",
    "model_filename = model_path+'{epoch:02d}-{val_loss:.4f}.hdf5'\n",
    "checkpointer = ModelCheckpoint(filepath = model_filename, monitor = \"val_loss\", \n",
    "                               verbose=1, save_best_only=True)"
   ]
  },
  {
   "cell_type": "code",
   "execution_count": 26,
   "metadata": {
    "colab": {
     "base_uri": "https://localhost:8080/",
     "height": 404
    },
    "colab_type": "code",
    "id": "ZUVV71K2D2tZ",
    "outputId": "7a454152-003e-4615-acd8-cfdb60ef8170",
    "scrolled": true
   },
   "outputs": [
    {
     "name": "stdout",
     "output_type": "stream",
     "text": [
      "Train on 1552 samples, validate on 666 samples\n",
      "Epoch 1/100\n",
      "1552/1552 [==============================] - 8s 5ms/step - loss: 0.6601 - acc: 0.6405 - val_loss: 0.7874 - val_acc: 0.6096\n",
      "\n",
      "Epoch 00001: val_loss improved from inf to 0.78736, saving model to AlexNet_based_check_point/01-0.7874.hdf5\n",
      "Epoch 2/100\n",
      "1552/1552 [==============================] - 4s 3ms/step - loss: 0.5713 - acc: 0.7152 - val_loss: 0.5474 - val_acc: 0.7237\n",
      "\n",
      "Epoch 00002: val_loss improved from 0.78736 to 0.54742, saving model to AlexNet_based_check_point/02-0.5474.hdf5\n",
      "Epoch 3/100\n",
      "1552/1552 [==============================] - 4s 3ms/step - loss: 0.2711 - acc: 0.9008 - val_loss: 0.4567 - val_acc: 0.8363\n",
      "\n",
      "Epoch 00003: val_loss improved from 0.54742 to 0.45670, saving model to AlexNet_based_check_point/03-0.4567.hdf5\n",
      "Epoch 4/100\n",
      "1552/1552 [==============================] - 4s 3ms/step - loss: 0.2147 - acc: 0.9182 - val_loss: 0.1649 - val_acc: 0.9414\n",
      "\n",
      "Epoch 00004: val_loss improved from 0.45670 to 0.16485, saving model to AlexNet_based_check_point/04-0.1649.hdf5\n",
      "Epoch 5/100\n",
      "1552/1552 [==============================] - 4s 3ms/step - loss: 0.1856 - acc: 0.9369 - val_loss: 0.1634 - val_acc: 0.9309\n",
      "\n",
      "Epoch 00005: val_loss improved from 0.16485 to 0.16343, saving model to AlexNet_based_check_point/05-0.1634.hdf5\n",
      "Epoch 6/100\n",
      "1552/1552 [==============================] - 4s 3ms/step - loss: 0.1818 - acc: 0.9336 - val_loss: 0.1853 - val_acc: 0.9249\n",
      "\n",
      "Epoch 00006: val_loss did not improve from 0.16343\n",
      "Epoch 7/100\n",
      "1552/1552 [==============================] - 4s 3ms/step - loss: 0.1593 - acc: 0.9472 - val_loss: 0.1408 - val_acc: 0.9414\n",
      "\n",
      "Epoch 00007: val_loss improved from 0.16343 to 0.14084, saving model to AlexNet_based_check_point/07-0.1408.hdf5\n",
      "Epoch 8/100\n",
      "1552/1552 [==============================] - 4s 3ms/step - loss: 0.1536 - acc: 0.9459 - val_loss: 0.1348 - val_acc: 0.9444\n",
      "\n",
      "Epoch 00008: val_loss improved from 0.14084 to 0.13480, saving model to AlexNet_based_check_point/08-0.1348.hdf5\n",
      "Epoch 9/100\n",
      "1552/1552 [==============================] - 5s 3ms/step - loss: 0.1485 - acc: 0.9485 - val_loss: 0.1186 - val_acc: 0.9474\n",
      "\n",
      "Epoch 00009: val_loss improved from 0.13480 to 0.11857, saving model to AlexNet_based_check_point/09-0.1186.hdf5\n",
      "Epoch 10/100\n",
      "1552/1552 [==============================] - 5s 3ms/step - loss: 0.1442 - acc: 0.9485 - val_loss: 0.1499 - val_acc: 0.9354\n",
      "\n",
      "Epoch 00010: val_loss did not improve from 0.11857\n",
      "Epoch 11/100\n",
      "1552/1552 [==============================] - 4s 3ms/step - loss: 0.1423 - acc: 0.9504 - val_loss: 0.1653 - val_acc: 0.9640\n",
      "\n",
      "Epoch 00011: val_loss did not improve from 0.11857\n",
      "Epoch 12/100\n",
      "1552/1552 [==============================] - 4s 3ms/step - loss: 0.1520 - acc: 0.9510 - val_loss: 0.1537 - val_acc: 0.9339\n",
      "\n",
      "Epoch 00012: val_loss did not improve from 0.11857\n",
      "Epoch 13/100\n",
      "1552/1552 [==============================] - 4s 3ms/step - loss: 0.1364 - acc: 0.9497 - val_loss: 0.3680 - val_acc: 0.8889\n",
      "\n",
      "Epoch 00013: val_loss did not improve from 0.11857\n",
      "Epoch 14/100\n",
      "1552/1552 [==============================] - 4s 3ms/step - loss: 0.1527 - acc: 0.9510 - val_loss: 0.1406 - val_acc: 0.9520\n",
      "\n",
      "Epoch 00014: val_loss did not improve from 0.11857\n",
      "Epoch 15/100\n",
      "1552/1552 [==============================] - 4s 3ms/step - loss: 0.1190 - acc: 0.9594 - val_loss: 0.1102 - val_acc: 0.9580\n",
      "\n",
      "Epoch 00015: val_loss improved from 0.11857 to 0.11021, saving model to AlexNet_based_check_point/15-0.1102.hdf5\n",
      "Epoch 16/100\n",
      "1552/1552 [==============================] - 4s 3ms/step - loss: 0.1097 - acc: 0.9639 - val_loss: 0.1331 - val_acc: 0.9459\n",
      "\n",
      "Epoch 00016: val_loss did not improve from 0.11021\n",
      "Epoch 17/100\n",
      "1552/1552 [==============================] - 4s 3ms/step - loss: 0.1083 - acc: 0.9613 - val_loss: 0.3162 - val_acc: 0.8814\n",
      "\n",
      "Epoch 00017: val_loss did not improve from 0.11021\n",
      "Epoch 18/100\n",
      "1552/1552 [==============================] - 4s 3ms/step - loss: 0.1496 - acc: 0.9543 - val_loss: 0.1267 - val_acc: 0.9459\n",
      "\n",
      "Epoch 00018: val_loss did not improve from 0.11021\n",
      "Epoch 19/100\n",
      "1552/1552 [==============================] - 4s 3ms/step - loss: 0.1099 - acc: 0.9613 - val_loss: 0.1098 - val_acc: 0.9565\n",
      "\n",
      "Epoch 00019: val_loss improved from 0.11021 to 0.10980, saving model to AlexNet_based_check_point/19-0.1098.hdf5\n",
      "Epoch 20/100\n",
      "1552/1552 [==============================] - 4s 3ms/step - loss: 0.1300 - acc: 0.9568 - val_loss: 0.1139 - val_acc: 0.9489\n",
      "\n",
      "Epoch 00020: val_loss did not improve from 0.10980\n",
      "Epoch 21/100\n",
      "1552/1552 [==============================] - 4s 3ms/step - loss: 0.0987 - acc: 0.9671 - val_loss: 0.1164 - val_acc: 0.9489\n",
      "\n",
      "Epoch 00021: val_loss did not improve from 0.10980\n",
      "Epoch 22/100\n",
      "1552/1552 [==============================] - 4s 3ms/step - loss: 0.1088 - acc: 0.9633 - val_loss: 0.0893 - val_acc: 0.9655\n",
      "\n",
      "Epoch 00022: val_loss improved from 0.10980 to 0.08926, saving model to AlexNet_based_check_point/22-0.0893.hdf5\n",
      "Epoch 23/100\n",
      "1552/1552 [==============================] - 4s 3ms/step - loss: 0.0990 - acc: 0.9691 - val_loss: 0.1496 - val_acc: 0.9414\n",
      "\n",
      "Epoch 00023: val_loss did not improve from 0.08926\n",
      "Epoch 24/100\n",
      "1552/1552 [==============================] - 4s 3ms/step - loss: 0.1058 - acc: 0.9659 - val_loss: 0.1238 - val_acc: 0.9429\n",
      "\n",
      "Epoch 00024: val_loss did not improve from 0.08926\n",
      "Epoch 25/100\n",
      "1552/1552 [==============================] - 4s 3ms/step - loss: 0.0907 - acc: 0.9710 - val_loss: 0.1084 - val_acc: 0.9520\n",
      "\n",
      "Epoch 00025: val_loss did not improve from 0.08926\n",
      "Epoch 26/100\n",
      "1552/1552 [==============================] - 4s 3ms/step - loss: 0.1002 - acc: 0.9671 - val_loss: 0.0999 - val_acc: 0.9610\n",
      "\n",
      "Epoch 00026: val_loss did not improve from 0.08926\n",
      "Epoch 27/100\n",
      "1552/1552 [==============================] - 4s 3ms/step - loss: 0.1059 - acc: 0.9659 - val_loss: 0.1008 - val_acc: 0.9550\n",
      "\n",
      "Epoch 00027: val_loss did not improve from 0.08926\n",
      "Epoch 28/100\n",
      "1552/1552 [==============================] - 4s 3ms/step - loss: 0.0959 - acc: 0.9659 - val_loss: 0.5986 - val_acc: 0.8078\n",
      "\n",
      "Epoch 00028: val_loss did not improve from 0.08926\n",
      "Epoch 29/100\n",
      "1552/1552 [==============================] - 4s 3ms/step - loss: 0.0921 - acc: 0.9665 - val_loss: 0.1102 - val_acc: 0.9520\n",
      "\n",
      "Epoch 00029: val_loss did not improve from 0.08926\n",
      "Epoch 30/100\n",
      "1552/1552 [==============================] - 4s 3ms/step - loss: 0.1053 - acc: 0.9659 - val_loss: 0.5875 - val_acc: 0.8048\n",
      "\n",
      "Epoch 00030: val_loss did not improve from 0.08926\n",
      "Epoch 31/100\n",
      "1552/1552 [==============================] - 4s 3ms/step - loss: 0.0938 - acc: 0.9665 - val_loss: 0.1466 - val_acc: 0.9414\n",
      "\n",
      "Epoch 00031: val_loss did not improve from 0.08926\n",
      "Epoch 32/100\n",
      "1552/1552 [==============================] - 4s 3ms/step - loss: 0.1099 - acc: 0.9626 - val_loss: 0.4514 - val_acc: 0.8333\n",
      "\n",
      "Epoch 00032: val_loss did not improve from 0.08926\n",
      "Epoch 33/100\n",
      "1552/1552 [==============================] - 4s 3ms/step - loss: 0.0965 - acc: 0.9678 - val_loss: 0.1213 - val_acc: 0.9535\n",
      "\n",
      "Epoch 00033: val_loss did not improve from 0.08926\n",
      "Epoch 34/100\n",
      "1552/1552 [==============================] - 4s 3ms/step - loss: 0.0838 - acc: 0.9716 - val_loss: 0.1093 - val_acc: 0.9580\n",
      "\n",
      "Epoch 00034: val_loss did not improve from 0.08926\n",
      "Epoch 35/100\n",
      "1552/1552 [==============================] - 4s 3ms/step - loss: 0.0814 - acc: 0.9716 - val_loss: 0.0943 - val_acc: 0.9625\n",
      "\n",
      "Epoch 00035: val_loss did not improve from 0.08926\n",
      "Epoch 36/100\n",
      "1552/1552 [==============================] - 4s 3ms/step - loss: 0.0862 - acc: 0.9723 - val_loss: 0.0938 - val_acc: 0.9640\n",
      "\n",
      "Epoch 00036: val_loss did not improve from 0.08926\n",
      "Epoch 37/100\n",
      "1552/1552 [==============================] - 4s 3ms/step - loss: 0.0808 - acc: 0.9691 - val_loss: 0.2469 - val_acc: 0.9159\n",
      "\n",
      "Epoch 00037: val_loss did not improve from 0.08926\n",
      "Epoch 38/100\n",
      "1552/1552 [==============================] - 4s 3ms/step - loss: 0.0816 - acc: 0.9755 - val_loss: 0.1534 - val_acc: 0.9399\n",
      "\n",
      "Epoch 00038: val_loss did not improve from 0.08926\n",
      "Epoch 39/100\n",
      "1552/1552 [==============================] - 4s 3ms/step - loss: 0.0923 - acc: 0.9697 - val_loss: 0.0863 - val_acc: 0.9640\n",
      "\n",
      "Epoch 00039: val_loss improved from 0.08926 to 0.08633, saving model to AlexNet_based_check_point/39-0.0863.hdf5\n",
      "Epoch 40/100\n"
     ]
    },
    {
     "name": "stdout",
     "output_type": "stream",
     "text": [
      "1552/1552 [==============================] - 6s 4ms/step - loss: 0.0816 - acc: 0.9742 - val_loss: 0.0910 - val_acc: 0.9640\n",
      "\n",
      "Epoch 00040: val_loss did not improve from 0.08633\n",
      "Epoch 41/100\n",
      "1552/1552 [==============================] - 4s 3ms/step - loss: 0.0722 - acc: 0.9787 - val_loss: 0.1101 - val_acc: 0.9610\n",
      "\n",
      "Epoch 00041: val_loss did not improve from 0.08633\n",
      "Epoch 42/100\n",
      "1552/1552 [==============================] - 4s 3ms/step - loss: 0.0805 - acc: 0.9704 - val_loss: 0.2858 - val_acc: 0.9084\n",
      "\n",
      "Epoch 00042: val_loss did not improve from 0.08633\n",
      "Epoch 43/100\n",
      "1552/1552 [==============================] - 4s 3ms/step - loss: 0.0844 - acc: 0.9723 - val_loss: 0.0978 - val_acc: 0.9625\n",
      "\n",
      "Epoch 00043: val_loss did not improve from 0.08633\n",
      "Epoch 44/100\n",
      "1552/1552 [==============================] - 4s 3ms/step - loss: 0.0780 - acc: 0.9762 - val_loss: 0.6832 - val_acc: 0.7913\n",
      "\n",
      "Epoch 00044: val_loss did not improve from 0.08633\n",
      "Epoch 45/100\n",
      "1552/1552 [==============================] - 4s 3ms/step - loss: 0.0795 - acc: 0.9749 - val_loss: 0.0963 - val_acc: 0.9670\n",
      "\n",
      "Epoch 00045: val_loss did not improve from 0.08633\n",
      "Epoch 46/100\n",
      "1552/1552 [==============================] - 4s 3ms/step - loss: 0.0757 - acc: 0.9729 - val_loss: 0.0894 - val_acc: 0.9640\n",
      "\n",
      "Epoch 00046: val_loss did not improve from 0.08633\n",
      "Epoch 47/100\n",
      "1552/1552 [==============================] - 4s 3ms/step - loss: 0.0674 - acc: 0.9800 - val_loss: 1.2896 - val_acc: 0.6381\n",
      "\n",
      "Epoch 00047: val_loss did not improve from 0.08633\n",
      "Epoch 48/100\n",
      "1552/1552 [==============================] - 4s 3ms/step - loss: 0.0763 - acc: 0.9736 - val_loss: 0.0985 - val_acc: 0.9595\n",
      "\n",
      "Epoch 00048: val_loss did not improve from 0.08633\n",
      "Epoch 49/100\n",
      "1552/1552 [==============================] - 4s 3ms/step - loss: 0.0721 - acc: 0.9736 - val_loss: 0.1435 - val_acc: 0.9535\n",
      "\n",
      "Epoch 00049: val_loss did not improve from 0.08633\n",
      "Epoch 50/100\n",
      "1552/1552 [==============================] - 4s 3ms/step - loss: 0.0731 - acc: 0.9749 - val_loss: 0.1268 - val_acc: 0.9489\n",
      "\n",
      "Epoch 00050: val_loss did not improve from 0.08633\n",
      "Epoch 51/100\n",
      "1552/1552 [==============================] - 4s 3ms/step - loss: 0.0742 - acc: 0.9729 - val_loss: 0.2608 - val_acc: 0.9204\n",
      "\n",
      "Epoch 00051: val_loss did not improve from 0.08633\n",
      "Epoch 52/100\n",
      "1552/1552 [==============================] - 4s 3ms/step - loss: 0.0641 - acc: 0.9787 - val_loss: 0.1400 - val_acc: 0.9505\n",
      "\n",
      "Epoch 00052: val_loss did not improve from 0.08633\n",
      "Epoch 53/100\n",
      "1552/1552 [==============================] - 4s 3ms/step - loss: 0.0722 - acc: 0.9813 - val_loss: 3.0042 - val_acc: 0.3994\n",
      "\n",
      "Epoch 00053: val_loss did not improve from 0.08633\n",
      "Epoch 54/100\n",
      "1552/1552 [==============================] - 4s 3ms/step - loss: 0.1108 - acc: 0.9665 - val_loss: 0.1342 - val_acc: 0.9459\n",
      "\n",
      "Epoch 00054: val_loss did not improve from 0.08633\n",
      "Epoch 55/100\n",
      "1552/1552 [==============================] - 4s 3ms/step - loss: 0.0578 - acc: 0.9807 - val_loss: 0.1000 - val_acc: 0.9670\n",
      "\n",
      "Epoch 00055: val_loss did not improve from 0.08633\n",
      "Epoch 56/100\n",
      "1552/1552 [==============================] - 4s 3ms/step - loss: 0.0659 - acc: 0.9813 - val_loss: 0.0974 - val_acc: 0.9610\n",
      "\n",
      "Epoch 00056: val_loss did not improve from 0.08633\n",
      "Epoch 57/100\n",
      "1552/1552 [==============================] - 4s 3ms/step - loss: 0.0609 - acc: 0.9832 - val_loss: 0.1096 - val_acc: 0.9640\n",
      "\n",
      "Epoch 00057: val_loss did not improve from 0.08633\n",
      "Epoch 58/100\n",
      "1552/1552 [==============================] - 4s 3ms/step - loss: 0.0652 - acc: 0.9768 - val_loss: 0.1856 - val_acc: 0.9384\n",
      "\n",
      "Epoch 00058: val_loss did not improve from 0.08633\n",
      "Epoch 59/100\n",
      "1552/1552 [==============================] - 4s 3ms/step - loss: 0.0612 - acc: 0.9794 - val_loss: 0.1300 - val_acc: 0.9565\n",
      "\n",
      "Epoch 00059: val_loss did not improve from 0.08633\n",
      "Epoch 60/100\n",
      "1552/1552 [==============================] - 4s 3ms/step - loss: 0.0571 - acc: 0.9781 - val_loss: 0.1180 - val_acc: 0.9595\n",
      "\n",
      "Epoch 00060: val_loss did not improve from 0.08633\n",
      "Epoch 61/100\n",
      "1552/1552 [==============================] - 4s 3ms/step - loss: 0.0582 - acc: 0.9807 - val_loss: 0.7508 - val_acc: 0.7733\n",
      "\n",
      "Epoch 00061: val_loss did not improve from 0.08633\n",
      "Epoch 62/100\n",
      "1552/1552 [==============================] - 4s 3ms/step - loss: 0.0512 - acc: 0.9800 - val_loss: 0.3590 - val_acc: 0.9174\n",
      "\n",
      "Epoch 00062: val_loss did not improve from 0.08633\n",
      "Epoch 63/100\n",
      "1552/1552 [==============================] - 4s 3ms/step - loss: 0.0791 - acc: 0.9729 - val_loss: 0.1454 - val_acc: 0.9550\n",
      "\n",
      "Epoch 00063: val_loss did not improve from 0.08633\n",
      "Epoch 64/100\n",
      "1552/1552 [==============================] - 4s 3ms/step - loss: 0.0568 - acc: 0.9813 - val_loss: 0.1087 - val_acc: 0.9595\n",
      "\n",
      "Epoch 00064: val_loss did not improve from 0.08633\n",
      "Epoch 65/100\n",
      "1552/1552 [==============================] - 4s 3ms/step - loss: 0.0561 - acc: 0.9768 - val_loss: 0.1281 - val_acc: 0.9595\n",
      "\n",
      "Epoch 00065: val_loss did not improve from 0.08633\n",
      "Epoch 66/100\n",
      "1552/1552 [==============================] - 4s 3ms/step - loss: 0.0572 - acc: 0.9832 - val_loss: 0.1066 - val_acc: 0.9580\n",
      "\n",
      "Epoch 00066: val_loss did not improve from 0.08633\n",
      "Epoch 67/100\n",
      "1552/1552 [==============================] - 4s 3ms/step - loss: 0.0560 - acc: 0.9807 - val_loss: 0.1866 - val_acc: 0.9414\n",
      "\n",
      "Epoch 00067: val_loss did not improve from 0.08633\n",
      "Epoch 68/100\n",
      "1552/1552 [==============================] - 4s 3ms/step - loss: 0.0568 - acc: 0.9794 - val_loss: 0.3817 - val_acc: 0.8799\n",
      "\n",
      "Epoch 00068: val_loss did not improve from 0.08633\n",
      "Epoch 69/100\n",
      "1552/1552 [==============================] - 4s 3ms/step - loss: 0.0550 - acc: 0.9820 - val_loss: 0.1116 - val_acc: 0.9595\n",
      "\n",
      "Epoch 00069: val_loss did not improve from 0.08633\n",
      "Epoch 70/100\n",
      "1552/1552 [==============================] - 4s 3ms/step - loss: 0.0536 - acc: 0.9826 - val_loss: 0.1125 - val_acc: 0.9610\n",
      "\n",
      "Epoch 00070: val_loss did not improve from 0.08633\n",
      "Epoch 71/100\n",
      "1552/1552 [==============================] - 4s 3ms/step - loss: 0.0574 - acc: 0.9839 - val_loss: 0.1833 - val_acc: 0.9474\n",
      "\n",
      "Epoch 00071: val_loss did not improve from 0.08633\n",
      "Epoch 72/100\n",
      "1552/1552 [==============================] - 4s 3ms/step - loss: 0.0659 - acc: 0.9762 - val_loss: 0.1178 - val_acc: 0.9595\n",
      "\n",
      "Epoch 00072: val_loss did not improve from 0.08633\n",
      "Epoch 73/100\n",
      "1552/1552 [==============================] - 4s 3ms/step - loss: 0.0487 - acc: 0.9813 - val_loss: 0.3238 - val_acc: 0.8979\n",
      "\n",
      "Epoch 00073: val_loss did not improve from 0.08633\n",
      "Epoch 74/100\n",
      "1552/1552 [==============================] - 4s 3ms/step - loss: 0.0528 - acc: 0.9807 - val_loss: 0.1317 - val_acc: 0.9565\n",
      "\n",
      "Epoch 00074: val_loss did not improve from 0.08633\n",
      "Epoch 75/100\n",
      "1552/1552 [==============================] - 4s 3ms/step - loss: 0.0543 - acc: 0.9794 - val_loss: 0.1197 - val_acc: 0.9655\n",
      "\n",
      "Epoch 00075: val_loss did not improve from 0.08633\n",
      "Epoch 76/100\n",
      "1552/1552 [==============================] - 4s 3ms/step - loss: 0.0435 - acc: 0.9878 - val_loss: 0.1149 - val_acc: 0.9640\n",
      "\n",
      "Epoch 00076: val_loss did not improve from 0.08633\n",
      "Epoch 77/100\n",
      "1552/1552 [==============================] - 4s 3ms/step - loss: 0.0363 - acc: 0.9871 - val_loss: 0.1437 - val_acc: 0.9595\n",
      "\n",
      "Epoch 00077: val_loss did not improve from 0.08633\n",
      "Epoch 78/100\n",
      "1552/1552 [==============================] - 4s 3ms/step - loss: 0.0569 - acc: 0.9807 - val_loss: 0.1322 - val_acc: 0.9580\n",
      "\n",
      "Epoch 00078: val_loss did not improve from 0.08633\n",
      "Epoch 79/100\n",
      "1552/1552 [==============================] - 4s 3ms/step - loss: 0.0527 - acc: 0.9826 - val_loss: 0.3115 - val_acc: 0.9219\n",
      "\n",
      "Epoch 00079: val_loss did not improve from 0.08633\n",
      "Epoch 80/100\n",
      "1552/1552 [==============================] - 4s 3ms/step - loss: 0.0396 - acc: 0.9852 - val_loss: 0.5162 - val_acc: 0.9129\n",
      "\n",
      "Epoch 00080: val_loss did not improve from 0.08633\n",
      "Epoch 81/100\n",
      "1552/1552 [==============================] - 4s 3ms/step - loss: 0.0430 - acc: 0.9813 - val_loss: 0.1149 - val_acc: 0.9595\n",
      "\n",
      "Epoch 00081: val_loss did not improve from 0.08633\n",
      "Epoch 82/100\n",
      "1552/1552 [==============================] - 4s 3ms/step - loss: 0.0506 - acc: 0.9800 - val_loss: 0.1441 - val_acc: 0.9580\n",
      "\n",
      "Epoch 00082: val_loss did not improve from 0.08633\n",
      "Epoch 83/100\n",
      "1552/1552 [==============================] - 4s 3ms/step - loss: 0.0356 - acc: 0.9878 - val_loss: 0.1350 - val_acc: 0.9610\n"
     ]
    },
    {
     "name": "stdout",
     "output_type": "stream",
     "text": [
      "\n",
      "Epoch 00083: val_loss did not improve from 0.08633\n",
      "Epoch 84/100\n",
      "1552/1552 [==============================] - 4s 3ms/step - loss: 0.0283 - acc: 0.9903 - val_loss: 0.3570 - val_acc: 0.9234\n",
      "\n",
      "Epoch 00084: val_loss did not improve from 0.08633\n",
      "Epoch 85/100\n",
      "1552/1552 [==============================] - 4s 3ms/step - loss: 0.0448 - acc: 0.9832 - val_loss: 0.2980 - val_acc: 0.9174\n",
      "\n",
      "Epoch 00085: val_loss did not improve from 0.08633\n",
      "Epoch 86/100\n",
      "1552/1552 [==============================] - 4s 3ms/step - loss: 0.0608 - acc: 0.9800 - val_loss: 0.1224 - val_acc: 0.9640\n",
      "\n",
      "Epoch 00086: val_loss did not improve from 0.08633\n",
      "Epoch 87/100\n",
      "1552/1552 [==============================] - 4s 3ms/step - loss: 0.0300 - acc: 0.9923 - val_loss: 1.1682 - val_acc: 0.6667\n",
      "\n",
      "Epoch 00087: val_loss did not improve from 0.08633\n",
      "Epoch 88/100\n",
      "1552/1552 [==============================] - 4s 3ms/step - loss: 0.0459 - acc: 0.9845 - val_loss: 0.3174 - val_acc: 0.8979\n",
      "\n",
      "Epoch 00088: val_loss did not improve from 0.08633\n",
      "Epoch 89/100\n",
      "1552/1552 [==============================] - 4s 3ms/step - loss: 0.0379 - acc: 0.9890 - val_loss: 0.1566 - val_acc: 0.9580\n",
      "\n",
      "Epoch 00089: val_loss did not improve from 0.08633\n",
      "Epoch 90/100\n",
      "1552/1552 [==============================] - 4s 3ms/step - loss: 0.0481 - acc: 0.9800 - val_loss: 0.6332 - val_acc: 0.9069\n",
      "\n",
      "Epoch 00090: val_loss did not improve from 0.08633\n",
      "Epoch 91/100\n",
      "1552/1552 [==============================] - 4s 3ms/step - loss: 0.0620 - acc: 0.9781 - val_loss: 0.1503 - val_acc: 0.9489\n",
      "\n",
      "Epoch 00091: val_loss did not improve from 0.08633\n",
      "Epoch 92/100\n",
      "1552/1552 [==============================] - 4s 3ms/step - loss: 0.0515 - acc: 0.9865 - val_loss: 0.1697 - val_acc: 0.9414\n",
      "\n",
      "Epoch 00092: val_loss did not improve from 0.08633\n",
      "Epoch 93/100\n",
      "1552/1552 [==============================] - 4s 3ms/step - loss: 0.0374 - acc: 0.9884 - val_loss: 0.1767 - val_acc: 0.9489\n",
      "\n",
      "Epoch 00093: val_loss did not improve from 0.08633\n",
      "Epoch 94/100\n",
      "1552/1552 [==============================] - 4s 3ms/step - loss: 0.0319 - acc: 0.9897 - val_loss: 0.1276 - val_acc: 0.9610\n",
      "\n",
      "Epoch 00094: val_loss did not improve from 0.08633\n",
      "Epoch 95/100\n",
      "1552/1552 [==============================] - 4s 3ms/step - loss: 0.0241 - acc: 0.9916 - val_loss: 0.1424 - val_acc: 0.9595\n",
      "\n",
      "Epoch 00095: val_loss did not improve from 0.08633\n",
      "Epoch 96/100\n",
      "1552/1552 [==============================] - 4s 3ms/step - loss: 0.0533 - acc: 0.9865 - val_loss: 0.2444 - val_acc: 0.9429\n",
      "\n",
      "Epoch 00096: val_loss did not improve from 0.08633\n",
      "Epoch 97/100\n",
      "1552/1552 [==============================] - 4s 3ms/step - loss: 0.0435 - acc: 0.9865 - val_loss: 0.3766 - val_acc: 0.8799\n",
      "\n",
      "Epoch 00097: val_loss did not improve from 0.08633\n",
      "Epoch 98/100\n",
      "1552/1552 [==============================] - 4s 3ms/step - loss: 0.0580 - acc: 0.9794 - val_loss: 1.2379 - val_acc: 0.6877\n",
      "\n",
      "Epoch 00098: val_loss did not improve from 0.08633\n",
      "Epoch 99/100\n",
      "1552/1552 [==============================] - 4s 3ms/step - loss: 0.0371 - acc: 0.9890 - val_loss: 0.1650 - val_acc: 0.9610\n",
      "\n",
      "Epoch 00099: val_loss did not improve from 0.08633\n",
      "Epoch 100/100\n",
      "1552/1552 [==============================] - 4s 3ms/step - loss: 0.0243 - acc: 0.9903 - val_loss: 2.4683 - val_acc: 0.4925\n",
      "\n",
      "Epoch 00100: val_loss did not improve from 0.08633\n"
     ]
    }
   ],
   "source": [
    "hist = model.fit(x_train, y_train, batch_size=64, epochs=100, validation_split=0.3, shuffle=True, callbacks = [checkpointer])"
   ]
  },
  {
   "cell_type": "code",
   "execution_count": 27,
   "metadata": {
    "scrolled": true
   },
   "outputs": [
    {
     "data": {
      "image/png": "[encoded data removed]",
      "text/plain": [
       "<Figure size 432x288 with 1 Axes>"
      ]
     },
     "metadata": {},
     "output_type": "display_data"
    }
   ],
   "source": [
    "fig, loss_ax = plt.subplots()\n",
    "loss_ax.plot(hist.history['loss'], 'y', label='train loss')\n",
    "loss_ax.plot(hist.history['val_loss'], 'r', label='val loss')\n",
    "loss_ax.set_xlabel('epoch')\n",
    "loss_ax.set_ylabel('loss')\n",
    "loss_ax.legend(loc='upper left')\n",
    "\n",
    "plt.show()"
   ]
  },
  {
   "cell_type": "markdown",
   "metadata": {},
   "source": [
    "(6) Test"
   ]
  },
  {
   "cell_type": "code",
   "execution_count": 28,
   "metadata": {
    "scrolled": true
   },
   "outputs": [],
   "source": [
    "model = load_model(model_path+'39-0.0863.hdf5',custom_objects={'<lambda>': ParametricSoftplus(0.2, 0.5)})"
   ]
  },
  {
   "cell_type": "code",
   "execution_count": 29,
   "metadata": {
    "colab": {},
    "colab_type": "code",
    "id": "DefsBoWAFKdi",
    "scrolled": false
   },
   "outputs": [
    {
     "name": "stdout",
     "output_type": "stream",
     "text": [
      "1093/1093 [==============================] - 1s 1ms/step\n",
      "Loss: 0.12353629554125113 Accuracy: 0.9560841720036597\n"
     ]
    }
   ],
   "source": [
    "[loss, accuracy] = model.evaluate(x_test, y_test)\n",
    "print('Loss:', loss, 'Accuracy:', accuracy)"
   ]
  },
  {
   "cell_type": "code",
   "execution_count": 30,
   "metadata": {},
   "outputs": [
    {
     "name": "stdout",
     "output_type": "stream",
     "text": [
      "F1 Score: 0.9663865546218486\n"
     ]
    }
   ],
   "source": [
    "pred = model.predict(x_test)\n",
    "test_f1_score = f1_score(y_test, pred > 0.5)\n",
    "print('F1 Score:', test_f1_score)"
   ]
  },
  {
   "cell_type": "code",
   "execution_count": 31,
   "metadata": {},
   "outputs": [
    {
     "name": "stdout",
     "output_type": "stream",
     "text": [
      "801 ms ± 14.5 ms per loop (mean ± std. dev. of 5 runs, 5 loops each)\n"
     ]
    }
   ],
   "source": [
    "%timeit -n 5 -r 5 model.predict(x_test)"
   ]
  },
  {
   "cell_type": "code",
   "execution_count": null,
   "metadata": {},
   "outputs": [],
   "source": []
  }
 ],
 "metadata": {
  "accelerator": "GPU",
  "colab": {
   "collapsed_sections": [],
   "name": "brains_on_beats_model_test",
   "provenance": [],
   "version": "0.3.2"
  },
  "kernelspec": {
   "display_name": "Python 3",
   "language": "python",
   "name": "python3"
  },
  "language_info": {
   "codemirror_mode": {
    "name": "ipython",
    "version": 3
   },
   "file_extension": ".py",
   "mimetype": "text/x-python",
   "name": "python",
   "nbconvert_exporter": "python",
   "pygments_lexer": "ipython3",
   "version": "3.5.2"
  }
 },
 "nbformat": 4,
 "nbformat_minor": 1
}
