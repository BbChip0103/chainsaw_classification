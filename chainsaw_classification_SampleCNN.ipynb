{
 "cells": [
  {
   "cell_type": "markdown",
   "metadata": {
    "colab_type": "text",
    "id": "-fWomgC-kF5f"
   },
   "source": [
    "**Architecture **\n",
    "\n",
    "<img src=\"http://drive.google.com/uc?export=view&id=12JomC2IswVbNGdE0IIvPpUk8vPjP-MBQ\"  alt=\"artchtecture\">\n",
    "\n",
    "\n",
    "---\n",
    "\n"
   ]
  },
  {
   "cell_type": "markdown",
   "metadata": {
    "colab_type": "text",
    "id": "uN7hQRZsDbgI"
   },
   "source": [
    "(1) Importing dependency"
   ]
  },
  {
   "cell_type": "code",
   "execution_count": 1,
   "metadata": {
    "colab": {
     "base_uri": "https://localhost:8080/",
     "height": 34
    },
    "colab_type": "code",
    "id": "3lPxjI5BDAkX",
    "outputId": "88280284-3c51-485b-adfa-4c428507fb92"
   },
   "outputs": [
    {
     "name": "stderr",
     "output_type": "stream",
     "text": [
      "Using TensorFlow backend.\n"
     ]
    }
   ],
   "source": [
    "import keras\n",
    "from keras.models import Sequential, load_model\n",
    "from keras.layers import Dense, Activation, Dropout, Flatten,\\\n",
    "                         Conv1D, MaxPooling1D\n",
    "from keras.layers.normalization import BatchNormalization\n",
    "from keras.callbacks import ModelCheckpoint\n",
    "\n",
    "import sklearn\n",
    "from sklearn.model_selection import train_test_split\n",
    "from sklearn.metrics import f1_score\n",
    "\n",
    "import pandas as pd\n",
    "import librosa\n",
    "from tqdm import tqdm_notebook as tqdm\n",
    "import os\n",
    "\n",
    "import numpy as np\n",
    "np.random.seed(13)\n",
    "import random\n",
    "random.seed(13)\n",
    "\n",
    "import matplotlib.pyplot as plt\n",
    "% matplotlib inline"
   ]
  },
  {
   "cell_type": "markdown",
   "metadata": {
    "colab_type": "text",
    "id": "py5KMVLnDZsC"
   },
   "source": [
    "(2) Get Data"
   ]
  },
  {
   "cell_type": "code",
   "execution_count": 2,
   "metadata": {},
   "outputs": [],
   "source": [
    "base_dir = '/data/private/SU/bbchip13/chainsaw_classification/data/'\n",
    "chainsaw_wav_dir = base_dir+'chainsaw/'\n",
    "other_wav_dir = base_dir+'no_chainsaw/'"
   ]
  },
  {
   "cell_type": "code",
   "execution_count": 3,
   "metadata": {},
   "outputs": [],
   "source": [
    "chainsaw_list = [chainsaw_wav_dir+filename for filename in os.listdir(chainsaw_wav_dir) \n",
    "                 if filename.endswith('.wav')]\n",
    "chainsaw_list = sklearn.utils.shuffle(chainsaw_list)\n",
    "chainsaw_list = chainsaw_list\n",
    "chainsaw_list = chainsaw_list\n",
    "chainsaw_labels = np.ones(len(chainsaw_list))\n",
    "\n",
    "no_chainsaw_list = [other_wav_dir+filename for filename in os.listdir(other_wav_dir)\n",
    "                    if filename.endswith('.wav')]\n",
    "no_chainsaw_list = sklearn.utils.shuffle(no_chainsaw_list)\n",
    "no_chainsaw_list = no_chainsaw_list\n",
    "no_chainsaw_list = no_chainsaw_list\n",
    "no_chainsaw_labels = np.zeros(len(no_chainsaw_list))"
   ]
  },
  {
   "cell_type": "code",
   "execution_count": 4,
   "metadata": {},
   "outputs": [],
   "source": [
    "def load_wavs(filenames):\n",
    "    return np.asarray([librosa.load(filename)[0] for filename in tqdm(filenames)])\n",
    "\n",
    "### If you have lack of memory, Use this\n",
    "#     wav = librosa.load(filenames[0])\n",
    "#     wavs = np.zeros( (len(filenames), wav.shape[0]) )\n",
    "#     for i, filename in enumerate(filenames):\n",
    "#         wavs[i][:] = librosa.load(filename)[:]\n",
    "#     return wavs"
   ]
  },
  {
   "cell_type": "code",
   "execution_count": 5,
   "metadata": {},
   "outputs": [
    {
     "name": "stdout",
     "output_type": "stream",
     "text": [
      "Load Train Data......\n"
     ]
    },
    {
     "data": {
      "application/vnd.jupyter.widget-view+json": {
       "model_id": "16596a8ddbbd41c6a8bc78cf40d0fb31",
       "version_major": 2,
       "version_minor": 0
      },
      "text/plain": [
       "HBox(children=(IntProgress(value=0, max=2218), HTML(value='')))"
      ]
     },
     "metadata": {},
     "output_type": "display_data"
    },
    {
     "name": "stdout",
     "output_type": "stream",
     "text": [
      "\n",
      "Load Test Data......\n"
     ]
    },
    {
     "data": {
      "application/vnd.jupyter.widget-view+json": {
       "model_id": "029e1dac15cf4dffa573a6617cb3495f",
       "version_major": 2,
       "version_minor": 0
      },
      "text/plain": [
       "HBox(children=(IntProgress(value=0, max=1093), HTML(value='')))"
      ]
     },
     "metadata": {},
     "output_type": "display_data"
    },
    {
     "name": "stdout",
     "output_type": "stream",
     "text": [
      "\n",
      "(2218, 110250, 1) (2218, 1) (1093, 110250, 1) (1093, 1)\n"
     ]
    }
   ],
   "source": [
    "x_train_chainsaw, x_test_chainsaw, y_train_chainsaw, y_test_chainsaw \\\n",
    "    = train_test_split(chainsaw_list, chainsaw_labels, test_size = 0.33, random_state = 7)\n",
    "x_train_no_chainsaw, x_test_no_chainsaw, y_train_no_chainsaw, y_test_no_chainsaw \\\n",
    "    = train_test_split(no_chainsaw_list, no_chainsaw_labels, test_size = 0.33, random_state = 7)\n",
    "\n",
    "x_train_filenames = x_train_chainsaw+x_train_no_chainsaw\n",
    "y_train = np.concatenate([y_train_chainsaw, y_train_no_chainsaw])\n",
    "\n",
    "x_test_filenames = x_test_chainsaw+x_test_no_chainsaw\n",
    "y_test = np.concatenate([y_test_chainsaw, y_test_no_chainsaw])\n",
    "\n",
    "x_train_filenames, y_train = sklearn.utils.shuffle(x_train_filenames, y_train)\n",
    "x_test_filenames, y_test = sklearn.utils.shuffle(x_test_filenames, y_test)\n",
    "\n",
    "print('Load Train Data......')\n",
    "x_train = load_wavs(x_train_filenames)\n",
    "print('Load Test Data......')\n",
    "x_test = load_wavs(x_test_filenames)\n",
    "\n",
    "x_train = np.reshape(x_train, (*x_train.shape, 1))\n",
    "y_train = np.reshape(y_train, (*y_train.shape, 1))\n",
    "x_test = np.reshape(x_test, (*x_test.shape, 1))\n",
    "y_test = np.reshape(y_test, (*y_test.shape, 1))\n",
    "\n",
    "print(x_train.shape, y_train.shape, x_test.shape, y_test.shape)"
   ]
  },
  {
   "cell_type": "markdown",
   "metadata": {
    "colab_type": "text",
    "id": "12cS85jvDnfS"
   },
   "source": [
    "(3) Create a sequential model"
   ]
  },
  {
   "cell_type": "code",
   "execution_count": 6,
   "metadata": {
    "colab": {
     "base_uri": "https://localhost:8080/",
     "height": 985
    },
    "colab_type": "code",
    "id": "fs8Heys2Dm30",
    "outputId": "bad14ede-be9c-4a2f-d052-9d9a29a5e437"
   },
   "outputs": [
    {
     "name": "stdout",
     "output_type": "stream",
     "text": [
      "_________________________________________________________________\n",
      "Layer (type)                 Output Shape              Param #   \n",
      "=================================================================\n",
      "conv1d_1 (Conv1D)            (None, 36750, 128)        512       \n",
      "_________________________________________________________________\n",
      "batch_normalization_1 (Batch (None, 36750, 128)        512       \n",
      "_________________________________________________________________\n",
      "activation_1 (Activation)    (None, 36750, 128)        0         \n",
      "_________________________________________________________________\n",
      "conv1d_2 (Conv1D)            (None, 36750, 128)        49280     \n",
      "_________________________________________________________________\n",
      "batch_normalization_2 (Batch (None, 36750, 128)        512       \n",
      "_________________________________________________________________\n",
      "activation_2 (Activation)    (None, 36750, 128)        0         \n",
      "_________________________________________________________________\n",
      "max_pooling1d_1 (MaxPooling1 (None, 12250, 128)        0         \n",
      "_________________________________________________________________\n",
      "conv1d_3 (Conv1D)            (None, 12250, 128)        49280     \n",
      "_________________________________________________________________\n",
      "batch_normalization_3 (Batch (None, 12250, 128)        512       \n",
      "_________________________________________________________________\n",
      "activation_3 (Activation)    (None, 12250, 128)        0         \n",
      "_________________________________________________________________\n",
      "max_pooling1d_2 (MaxPooling1 (None, 4083, 128)         0         \n",
      "_________________________________________________________________\n",
      "conv1d_4 (Conv1D)            (None, 4083, 256)         98560     \n",
      "_________________________________________________________________\n",
      "batch_normalization_4 (Batch (None, 4083, 256)         1024      \n",
      "_________________________________________________________________\n",
      "activation_4 (Activation)    (None, 4083, 256)         0         \n",
      "_________________________________________________________________\n",
      "max_pooling1d_3 (MaxPooling1 (None, 1361, 256)         0         \n",
      "_________________________________________________________________\n",
      "conv1d_5 (Conv1D)            (None, 1361, 256)         196864    \n",
      "_________________________________________________________________\n",
      "batch_normalization_5 (Batch (None, 1361, 256)         1024      \n",
      "_________________________________________________________________\n",
      "activation_5 (Activation)    (None, 1361, 256)         0         \n",
      "_________________________________________________________________\n",
      "max_pooling1d_4 (MaxPooling1 (None, 453, 256)          0         \n",
      "_________________________________________________________________\n",
      "conv1d_6 (Conv1D)            (None, 453, 256)          196864    \n",
      "_________________________________________________________________\n",
      "batch_normalization_6 (Batch (None, 453, 256)          1024      \n",
      "_________________________________________________________________\n",
      "activation_6 (Activation)    (None, 453, 256)          0         \n",
      "_________________________________________________________________\n",
      "max_pooling1d_5 (MaxPooling1 (None, 151, 256)          0         \n",
      "_________________________________________________________________\n",
      "conv1d_7 (Conv1D)            (None, 151, 256)          196864    \n",
      "_________________________________________________________________\n",
      "batch_normalization_7 (Batch (None, 151, 256)          1024      \n",
      "_________________________________________________________________\n",
      "activation_7 (Activation)    (None, 151, 256)          0         \n",
      "_________________________________________________________________\n",
      "max_pooling1d_6 (MaxPooling1 (None, 50, 256)           0         \n",
      "_________________________________________________________________\n",
      "conv1d_8 (Conv1D)            (None, 50, 256)           196864    \n",
      "_________________________________________________________________\n",
      "batch_normalization_8 (Batch (None, 50, 256)           1024      \n",
      "_________________________________________________________________\n",
      "activation_8 (Activation)    (None, 50, 256)           0         \n",
      "_________________________________________________________________\n",
      "max_pooling1d_7 (MaxPooling1 (None, 16, 256)           0         \n",
      "_________________________________________________________________\n",
      "conv1d_9 (Conv1D)            (None, 16, 256)           196864    \n",
      "_________________________________________________________________\n",
      "batch_normalization_9 (Batch (None, 16, 256)           1024      \n",
      "_________________________________________________________________\n",
      "activation_9 (Activation)    (None, 16, 256)           0         \n",
      "_________________________________________________________________\n",
      "max_pooling1d_8 (MaxPooling1 (None, 5, 256)            0         \n",
      "_________________________________________________________________\n",
      "conv1d_10 (Conv1D)           (None, 5, 512)            393728    \n",
      "_________________________________________________________________\n",
      "batch_normalization_10 (Batc (None, 5, 512)            2048      \n",
      "_________________________________________________________________\n",
      "activation_10 (Activation)   (None, 5, 512)            0         \n",
      "_________________________________________________________________\n",
      "max_pooling1d_9 (MaxPooling1 (None, 1, 512)            0         \n",
      "_________________________________________________________________\n",
      "dropout_1 (Dropout)          (None, 1, 512)            0         \n",
      "_________________________________________________________________\n",
      "flatten_1 (Flatten)          (None, 512)               0         \n",
      "_________________________________________________________________\n",
      "dense_1 (Dense)              (None, 1)                 513       \n",
      "_________________________________________________________________\n",
      "activation_11 (Activation)   (None, 1)                 0         \n",
      "=================================================================\n",
      "Total params: 1,585,921\n",
      "Trainable params: 1,581,057\n",
      "Non-trainable params: 4,864\n",
      "_________________________________________________________________\n"
     ]
    }
   ],
   "source": [
    "model=Sequential()\n",
    "\n",
    "# Layer 1\n",
    "model.add(Conv1D (kernel_size=3, filters=128, strides=3, padding='valid',\n",
    "                  kernel_initializer='he_uniform', input_shape=x_train.shape[1:]))                  \n",
    "model.add(BatchNormalization())\n",
    "model.add(Activation('relu'))\n",
    "\n",
    "# Layer 2\n",
    "model.add(Conv1D (kernel_size=3, filters=128, padding='same', kernel_initializer='he_uniform'))\n",
    "model.add(BatchNormalization())\n",
    "model.add(Activation('relu'))\n",
    "model.add(MaxPooling1D(pool_size=3, strides=3))\n",
    "\n",
    "# Layer 3\n",
    "model.add(Conv1D (kernel_size=3, filters=128, padding='same', kernel_initializer='he_uniform'))\n",
    "model.add(BatchNormalization())\n",
    "model.add(Activation('relu'))\n",
    "model.add(MaxPooling1D(pool_size=3, strides=3))\n",
    "\n",
    "# Layer 4\n",
    "model.add(Conv1D (kernel_size=3, filters=256, padding='same', kernel_initializer='he_uniform'))\n",
    "model.add(BatchNormalization())\n",
    "model.add(Activation('relu'))\n",
    "model.add(MaxPooling1D(pool_size=3, strides=3))\n",
    "\n",
    "# Layer 5\n",
    "model.add(Conv1D (kernel_size=3, filters=256, padding='same', kernel_initializer='he_uniform'))\n",
    "model.add(BatchNormalization())\n",
    "model.add(Activation('relu'))\n",
    "model.add(MaxPooling1D(pool_size=3, strides=3))\n",
    "\n",
    "# Layer 6\n",
    "model.add(Conv1D (kernel_size=3, filters=256, padding='same', kernel_initializer='he_uniform'))\n",
    "model.add(BatchNormalization())\n",
    "model.add(Activation('relu'))\n",
    "model.add(MaxPooling1D(pool_size=3, strides=3))\n",
    "\n",
    "# Layer 7\n",
    "model.add(Conv1D (kernel_size=3, filters=256, padding='same', kernel_initializer='he_uniform'))\n",
    "model.add(BatchNormalization())\n",
    "model.add(Activation('relu'))\n",
    "model.add(MaxPooling1D(pool_size=3, strides=3))\n",
    "\n",
    "# Layer 8\n",
    "model.add(Conv1D (kernel_size=3, filters=256, padding='same', kernel_initializer='he_uniform'))\n",
    "model.add(BatchNormalization())\n",
    "model.add(Activation('relu'))\n",
    "model.add(MaxPooling1D(pool_size=3, strides=3))\n",
    "\n",
    "# Layer 9\n",
    "model.add(Conv1D (kernel_size=3, filters=256, padding='same', kernel_initializer='he_uniform'))\n",
    "model.add(BatchNormalization())\n",
    "model.add(Activation('relu'))\n",
    "model.add(MaxPooling1D(pool_size=3, strides=3))\n",
    "\n",
    "# Layer 10\n",
    "model.add(Conv1D (kernel_size=3, filters=512, padding='same', kernel_initializer='he_uniform'))\n",
    "model.add(BatchNormalization())\n",
    "model.add(Activation('relu'))\n",
    "model.add(MaxPooling1D(pool_size=3, strides=3))\n",
    "\n",
    "# Layer 11\n",
    "model.add(Dropout(0.5))\n",
    "model.add(Flatten())\n",
    "\n",
    "# Layer 12\n",
    "model.add(Dense(1))\n",
    "model.add(Activation('sigmoid'))\n",
    "model.summary()"
   ]
  },
  {
   "cell_type": "markdown",
   "metadata": {
    "colab_type": "text",
    "id": "RLxfqHNxDuJq"
   },
   "source": [
    "(4) Compile "
   ]
  },
  {
   "cell_type": "code",
   "execution_count": 7,
   "metadata": {
    "colab": {},
    "colab_type": "code",
    "id": "5jPB8IbZDxeJ"
   },
   "outputs": [],
   "source": [
    "model.compile(loss='binary_crossentropy', \n",
    "              optimizer=keras.optimizers.SGD(lr=0.01, momentum=0.9, decay=1e-6, nesterov=True),\n",
    "              metrics=['accuracy'])"
   ]
  },
  {
   "cell_type": "markdown",
   "metadata": {
    "colab_type": "text",
    "id": "VUsuRj-7Dzxx"
   },
   "source": [
    "(5) Train"
   ]
  },
  {
   "cell_type": "code",
   "execution_count": 8,
   "metadata": {},
   "outputs": [],
   "source": [
    "model_path = 'SampleCNN_check_point/'\n",
    "os.makedirs(model_path, exist_ok=True)\n",
    "model_filename = model_path+'{epoch:02d}-{val_loss:.4f}.hdf5'\n",
    "checkpointer = ModelCheckpoint(filepath = model_filename, monitor = \"val_loss\", verbose=1, save_best_only=True)\n",
    "\n",
    "# from keras.callbacks import EarlyStopping\n",
    "# cb_early_stopping = EarlyStopping(monitor='val_loss', patience=10)\n",
    "# model.fit(X, Y, validation_split=0.2, epochs=5000, batch_size=500,\n",
    "#           callbacks=[EarlyStopping])"
   ]
  },
  {
   "cell_type": "code",
   "execution_count": 9,
   "metadata": {
    "colab": {
     "base_uri": "https://localhost:8080/",
     "height": 404
    },
    "colab_type": "code",
    "id": "ZUVV71K2D2tZ",
    "outputId": "7a454152-003e-4615-acd8-cfdb60ef8170",
    "scrolled": true
   },
   "outputs": [
    {
     "name": "stdout",
     "output_type": "stream",
     "text": [
      "WARNING:tensorflow:Variable *= will be deprecated. Use variable.assign_mul if you want assignment to the variable value or 'x = x * y' if you want a new python Tensor object.\n",
      "Train on 1552 samples, validate on 666 samples\n",
      "Epoch 1/100\n",
      "1552/1552 [==============================] - 33s 21ms/step - loss: 0.3130 - acc: 0.8769 - val_loss: 1.3046 - val_acc: 0.7117\n",
      "\n",
      "Epoch 00001: val_loss improved from inf to 1.30455, saving model to SampleCNN_check_point/01-1.3046.hdf5\n",
      "Epoch 2/100\n",
      "1552/1552 [==============================] - 27s 17ms/step - loss: 0.2485 - acc: 0.9240 - val_loss: 0.1628 - val_acc: 0.9459\n",
      "\n",
      "Epoch 00002: val_loss improved from 1.30455 to 0.16281, saving model to SampleCNN_check_point/02-0.1628.hdf5\n",
      "Epoch 3/100\n",
      "1552/1552 [==============================] - 27s 17ms/step - loss: 0.1486 - acc: 0.9510 - val_loss: 0.0863 - val_acc: 0.9655\n",
      "\n",
      "Epoch 00003: val_loss improved from 0.16281 to 0.08627, saving model to SampleCNN_check_point/03-0.0863.hdf5\n",
      "Epoch 4/100\n",
      "1552/1552 [==============================] - 27s 17ms/step - loss: 0.1195 - acc: 0.9575 - val_loss: 0.0983 - val_acc: 0.9685\n",
      "\n",
      "Epoch 00004: val_loss did not improve from 0.08627\n",
      "Epoch 5/100\n",
      "1552/1552 [==============================] - 27s 17ms/step - loss: 0.1291 - acc: 0.9555 - val_loss: 0.1160 - val_acc: 0.9535\n",
      "\n",
      "Epoch 00005: val_loss did not improve from 0.08627\n",
      "Epoch 6/100\n",
      "1552/1552 [==============================] - 27s 17ms/step - loss: 0.0836 - acc: 0.9704 - val_loss: 0.1082 - val_acc: 0.9655\n",
      "\n",
      "Epoch 00006: val_loss did not improve from 0.08627\n",
      "Epoch 7/100\n",
      "1552/1552 [==============================] - 27s 17ms/step - loss: 0.0850 - acc: 0.9736 - val_loss: 0.1233 - val_acc: 0.9535\n",
      "\n",
      "Epoch 00007: val_loss did not improve from 0.08627\n",
      "Epoch 8/100\n",
      "1552/1552 [==============================] - 27s 17ms/step - loss: 0.0919 - acc: 0.9704 - val_loss: 0.2092 - val_acc: 0.9279\n",
      "\n",
      "Epoch 00008: val_loss did not improve from 0.08627\n",
      "Epoch 9/100\n",
      "1552/1552 [==============================] - 27s 17ms/step - loss: 0.0725 - acc: 0.9723 - val_loss: 0.0823 - val_acc: 0.9685\n",
      "\n",
      "Epoch 00009: val_loss improved from 0.08627 to 0.08227, saving model to SampleCNN_check_point/09-0.0823.hdf5\n",
      "Epoch 10/100\n",
      "1552/1552 [==============================] - 27s 17ms/step - loss: 0.0782 - acc: 0.9678 - val_loss: 0.1917 - val_acc: 0.9414\n",
      "\n",
      "Epoch 00010: val_loss did not improve from 0.08227\n",
      "Epoch 11/100\n",
      "1552/1552 [==============================] - 27s 17ms/step - loss: 0.0715 - acc: 0.9729 - val_loss: 0.0904 - val_acc: 0.9640\n",
      "\n",
      "Epoch 00011: val_loss did not improve from 0.08227\n",
      "Epoch 12/100\n",
      "1552/1552 [==============================] - 27s 17ms/step - loss: 0.0880 - acc: 0.9678 - val_loss: 0.1009 - val_acc: 0.9670\n",
      "\n",
      "Epoch 00012: val_loss did not improve from 0.08227\n",
      "Epoch 13/100\n",
      "1552/1552 [==============================] - 27s 17ms/step - loss: 0.0785 - acc: 0.9729 - val_loss: 0.0628 - val_acc: 0.9790\n",
      "\n",
      "Epoch 00013: val_loss improved from 0.08227 to 0.06284, saving model to SampleCNN_check_point/13-0.0628.hdf5\n",
      "Epoch 14/100\n",
      "1552/1552 [==============================] - 27s 17ms/step - loss: 0.0641 - acc: 0.9755 - val_loss: 0.0870 - val_acc: 0.9700\n",
      "\n",
      "Epoch 00014: val_loss did not improve from 0.06284\n",
      "Epoch 15/100\n",
      "1552/1552 [==============================] - 27s 17ms/step - loss: 0.0472 - acc: 0.9845 - val_loss: 0.3370 - val_acc: 0.8964\n",
      "\n",
      "Epoch 00015: val_loss did not improve from 0.06284\n",
      "Epoch 16/100\n",
      "1552/1552 [==============================] - 27s 17ms/step - loss: 0.0494 - acc: 0.9807 - val_loss: 0.0622 - val_acc: 0.9775\n",
      "\n",
      "Epoch 00016: val_loss improved from 0.06284 to 0.06216, saving model to SampleCNN_check_point/16-0.0622.hdf5\n",
      "Epoch 17/100\n",
      "1552/1552 [==============================] - 27s 17ms/step - loss: 0.0452 - acc: 0.9852 - val_loss: 0.0653 - val_acc: 0.9730\n",
      "\n",
      "Epoch 00017: val_loss did not improve from 0.06216\n",
      "Epoch 18/100\n",
      "1552/1552 [==============================] - 27s 17ms/step - loss: 0.0543 - acc: 0.9794 - val_loss: 0.1566 - val_acc: 0.9459\n",
      "\n",
      "Epoch 00018: val_loss did not improve from 0.06216\n",
      "Epoch 19/100\n",
      "1552/1552 [==============================] - 27s 17ms/step - loss: 0.0555 - acc: 0.9794 - val_loss: 0.0862 - val_acc: 0.9775\n",
      "\n",
      "Epoch 00019: val_loss did not improve from 0.06216\n",
      "Epoch 20/100\n",
      "1552/1552 [==============================] - 27s 17ms/step - loss: 0.0428 - acc: 0.9845 - val_loss: 0.1955 - val_acc: 0.9414\n",
      "\n",
      "Epoch 00020: val_loss did not improve from 0.06216\n",
      "Epoch 21/100\n",
      "1552/1552 [==============================] - 27s 17ms/step - loss: 0.0332 - acc: 0.9878 - val_loss: 0.0710 - val_acc: 0.9745\n",
      "\n",
      "Epoch 00021: val_loss did not improve from 0.06216\n",
      "Epoch 22/100\n",
      "1552/1552 [==============================] - 27s 17ms/step - loss: 0.0404 - acc: 0.9865 - val_loss: 0.2231 - val_acc: 0.9414\n",
      "\n",
      "Epoch 00022: val_loss did not improve from 0.06216\n",
      "Epoch 23/100\n",
      "1552/1552 [==============================] - 27s 17ms/step - loss: 0.0382 - acc: 0.9897 - val_loss: 0.1296 - val_acc: 0.9730\n",
      "\n",
      "Epoch 00023: val_loss did not improve from 0.06216\n",
      "Epoch 24/100\n",
      "1552/1552 [==============================] - 27s 17ms/step - loss: 0.0408 - acc: 0.9878 - val_loss: 0.0945 - val_acc: 0.9700\n",
      "\n",
      "Epoch 00024: val_loss did not improve from 0.06216\n",
      "Epoch 25/100\n",
      "1552/1552 [==============================] - 27s 17ms/step - loss: 0.0443 - acc: 0.9852 - val_loss: 0.0864 - val_acc: 0.9640\n",
      "\n",
      "Epoch 00025: val_loss did not improve from 0.06216\n",
      "Epoch 26/100\n",
      "1552/1552 [==============================] - 27s 17ms/step - loss: 0.0301 - acc: 0.9903 - val_loss: 0.0851 - val_acc: 0.9715\n",
      "\n",
      "Epoch 00026: val_loss did not improve from 0.06216\n",
      "Epoch 27/100\n",
      "1552/1552 [==============================] - 27s 17ms/step - loss: 0.0313 - acc: 0.9910 - val_loss: 0.0863 - val_acc: 0.9685\n",
      "\n",
      "Epoch 00027: val_loss did not improve from 0.06216\n",
      "Epoch 28/100\n",
      "1552/1552 [==============================] - 27s 17ms/step - loss: 0.0404 - acc: 0.9865 - val_loss: 0.0717 - val_acc: 0.9655\n",
      "\n",
      "Epoch 00028: val_loss did not improve from 0.06216\n",
      "Epoch 29/100\n",
      "1552/1552 [==============================] - 27s 17ms/step - loss: 0.0234 - acc: 0.9923 - val_loss: 0.0880 - val_acc: 0.9745\n",
      "\n",
      "Epoch 00029: val_loss did not improve from 0.06216\n",
      "Epoch 30/100\n",
      "1552/1552 [==============================] - 27s 17ms/step - loss: 0.0323 - acc: 0.9858 - val_loss: 0.0688 - val_acc: 0.9760\n",
      "\n",
      "Epoch 00030: val_loss did not improve from 0.06216\n",
      "Epoch 31/100\n",
      "1552/1552 [==============================] - 27s 17ms/step - loss: 0.0246 - acc: 0.9903 - val_loss: 0.0975 - val_acc: 0.9685\n",
      "\n",
      "Epoch 00031: val_loss did not improve from 0.06216\n",
      "Epoch 32/100\n",
      "1552/1552 [==============================] - 27s 17ms/step - loss: 0.0176 - acc: 0.9961 - val_loss: 0.0473 - val_acc: 0.9835\n",
      "\n",
      "Epoch 00032: val_loss improved from 0.06216 to 0.04730, saving model to SampleCNN_check_point/32-0.0473.hdf5\n",
      "Epoch 33/100\n",
      "1552/1552 [==============================] - 27s 17ms/step - loss: 0.0213 - acc: 0.9929 - val_loss: 0.1427 - val_acc: 0.9640\n",
      "\n",
      "Epoch 00033: val_loss did not improve from 0.04730\n",
      "Epoch 34/100\n",
      "1552/1552 [==============================] - 27s 17ms/step - loss: 0.0140 - acc: 0.9955 - val_loss: 0.0927 - val_acc: 0.9775\n",
      "\n",
      "Epoch 00034: val_loss did not improve from 0.04730\n",
      "Epoch 35/100\n",
      "1552/1552 [==============================] - 27s 17ms/step - loss: 0.0091 - acc: 0.9968 - val_loss: 0.0830 - val_acc: 0.9700\n",
      "\n",
      "Epoch 00035: val_loss did not improve from 0.04730\n",
      "Epoch 36/100\n",
      "1552/1552 [==============================] - 27s 17ms/step - loss: 0.0260 - acc: 0.9923 - val_loss: 0.1180 - val_acc: 0.9700\n",
      "\n",
      "Epoch 00036: val_loss did not improve from 0.04730\n",
      "Epoch 37/100\n",
      "1552/1552 [==============================] - 27s 17ms/step - loss: 0.0193 - acc: 0.9936 - val_loss: 0.0786 - val_acc: 0.9775\n",
      "\n",
      "Epoch 00037: val_loss did not improve from 0.04730\n",
      "Epoch 38/100\n",
      "1552/1552 [==============================] - 27s 17ms/step - loss: 0.0233 - acc: 0.9923 - val_loss: 0.0542 - val_acc: 0.9865\n",
      "\n",
      "Epoch 00038: val_loss did not improve from 0.04730\n",
      "Epoch 39/100\n",
      "1552/1552 [==============================] - 27s 17ms/step - loss: 0.0160 - acc: 0.9948 - val_loss: 0.0534 - val_acc: 0.9820\n",
      "\n",
      "Epoch 00039: val_loss did not improve from 0.04730\n",
      "Epoch 40/100\n",
      "1552/1552 [==============================] - 27s 17ms/step - loss: 0.0036 - acc: 0.9994 - val_loss: 0.0559 - val_acc: 0.9820\n",
      "\n",
      "Epoch 00040: val_loss did not improve from 0.04730\n",
      "Epoch 41/100\n"
     ]
    },
    {
     "name": "stdout",
     "output_type": "stream",
     "text": [
      "1552/1552 [==============================] - 27s 17ms/step - loss: 0.0157 - acc: 0.9929 - val_loss: 0.1029 - val_acc: 0.9640\n",
      "\n",
      "Epoch 00041: val_loss did not improve from 0.04730\n",
      "Epoch 42/100\n",
      "1552/1552 [==============================] - 27s 17ms/step - loss: 0.0163 - acc: 0.9929 - val_loss: 0.0773 - val_acc: 0.9775\n",
      "\n",
      "Epoch 00042: val_loss did not improve from 0.04730\n",
      "Epoch 43/100\n",
      "1552/1552 [==============================] - 27s 17ms/step - loss: 0.0125 - acc: 0.9948 - val_loss: 0.0548 - val_acc: 0.9850\n",
      "\n",
      "Epoch 00043: val_loss did not improve from 0.04730\n",
      "Epoch 44/100\n",
      "1552/1552 [==============================] - 27s 17ms/step - loss: 0.0182 - acc: 0.9948 - val_loss: 0.1045 - val_acc: 0.9685\n",
      "\n",
      "Epoch 00044: val_loss did not improve from 0.04730\n",
      "Epoch 45/100\n",
      "1552/1552 [==============================] - 27s 17ms/step - loss: 0.0281 - acc: 0.9897 - val_loss: 0.0499 - val_acc: 0.9790\n",
      "\n",
      "Epoch 00045: val_loss did not improve from 0.04730\n",
      "Epoch 46/100\n",
      "1552/1552 [==============================] - 27s 17ms/step - loss: 0.0272 - acc: 0.9890 - val_loss: 0.0679 - val_acc: 0.9865\n",
      "\n",
      "Epoch 00046: val_loss did not improve from 0.04730\n",
      "Epoch 47/100\n",
      "1552/1552 [==============================] - 27s 17ms/step - loss: 0.0173 - acc: 0.9942 - val_loss: 0.0697 - val_acc: 0.9805\n",
      "\n",
      "Epoch 00047: val_loss did not improve from 0.04730\n",
      "Epoch 48/100\n",
      "1552/1552 [==============================] - 27s 17ms/step - loss: 0.0195 - acc: 0.9936 - val_loss: 0.0640 - val_acc: 0.9865\n",
      "\n",
      "Epoch 00048: val_loss did not improve from 0.04730\n",
      "Epoch 49/100\n",
      "1552/1552 [==============================] - 27s 17ms/step - loss: 0.0131 - acc: 0.9955 - val_loss: 0.0613 - val_acc: 0.9850\n",
      "\n",
      "Epoch 00049: val_loss did not improve from 0.04730\n",
      "Epoch 50/100\n",
      "1552/1552 [==============================] - 27s 17ms/step - loss: 0.0211 - acc: 0.9936 - val_loss: 0.0835 - val_acc: 0.9850\n",
      "\n",
      "Epoch 00050: val_loss did not improve from 0.04730\n",
      "Epoch 51/100\n",
      "1552/1552 [==============================] - 27s 17ms/step - loss: 0.0183 - acc: 0.9955 - val_loss: 0.1096 - val_acc: 0.9835\n",
      "\n",
      "Epoch 00051: val_loss did not improve from 0.04730\n",
      "Epoch 52/100\n",
      "1552/1552 [==============================] - 27s 17ms/step - loss: 0.0283 - acc: 0.9910 - val_loss: 0.0800 - val_acc: 0.9820\n",
      "\n",
      "Epoch 00052: val_loss did not improve from 0.04730\n",
      "Epoch 53/100\n",
      "1552/1552 [==============================] - 27s 17ms/step - loss: 0.0442 - acc: 0.9865 - val_loss: 0.0678 - val_acc: 0.9835\n",
      "\n",
      "Epoch 00053: val_loss did not improve from 0.04730\n",
      "Epoch 54/100\n",
      "1552/1552 [==============================] - 27s 17ms/step - loss: 0.0162 - acc: 0.9955 - val_loss: 0.0743 - val_acc: 0.9835\n",
      "\n",
      "Epoch 00054: val_loss did not improve from 0.04730\n",
      "Epoch 55/100\n",
      "1552/1552 [==============================] - 27s 17ms/step - loss: 0.0255 - acc: 0.9903 - val_loss: 0.0737 - val_acc: 0.9760\n",
      "\n",
      "Epoch 00055: val_loss did not improve from 0.04730\n",
      "Epoch 56/100\n",
      "1552/1552 [==============================] - 27s 17ms/step - loss: 0.0110 - acc: 0.9981 - val_loss: 0.0640 - val_acc: 0.9880\n",
      "\n",
      "Epoch 00056: val_loss did not improve from 0.04730\n",
      "Epoch 57/100\n",
      "1552/1552 [==============================] - 27s 17ms/step - loss: 0.0073 - acc: 0.9968 - val_loss: 0.0649 - val_acc: 0.9865\n",
      "\n",
      "Epoch 00057: val_loss did not improve from 0.04730\n",
      "Epoch 58/100\n",
      "1552/1552 [==============================] - 27s 17ms/step - loss: 0.0082 - acc: 0.9961 - val_loss: 0.0614 - val_acc: 0.9895\n",
      "\n",
      "Epoch 00058: val_loss did not improve from 0.04730\n",
      "Epoch 59/100\n",
      "1552/1552 [==============================] - 27s 17ms/step - loss: 0.0054 - acc: 0.9987 - val_loss: 0.0755 - val_acc: 0.9865\n",
      "\n",
      "Epoch 00059: val_loss did not improve from 0.04730\n",
      "Epoch 60/100\n",
      "1552/1552 [==============================] - 27s 17ms/step - loss: 0.0036 - acc: 0.9994 - val_loss: 0.0727 - val_acc: 0.9850\n",
      "\n",
      "Epoch 00060: val_loss did not improve from 0.04730\n",
      "Epoch 61/100\n",
      "1552/1552 [==============================] - 27s 17ms/step - loss: 0.0039 - acc: 0.9987 - val_loss: 0.0772 - val_acc: 0.9820\n",
      "\n",
      "Epoch 00061: val_loss did not improve from 0.04730\n",
      "Epoch 62/100\n",
      "1552/1552 [==============================] - 27s 17ms/step - loss: 0.0030 - acc: 0.9994 - val_loss: 0.1443 - val_acc: 0.9670\n",
      "\n",
      "Epoch 00062: val_loss did not improve from 0.04730\n",
      "Epoch 63/100\n",
      "1552/1552 [==============================] - 27s 17ms/step - loss: 0.0076 - acc: 0.9968 - val_loss: 0.0652 - val_acc: 0.9850\n",
      "\n",
      "Epoch 00063: val_loss did not improve from 0.04730\n",
      "Epoch 64/100\n",
      "1552/1552 [==============================] - 27s 17ms/step - loss: 0.0061 - acc: 0.9981 - val_loss: 0.0647 - val_acc: 0.9850\n",
      "\n",
      "Epoch 00064: val_loss did not improve from 0.04730\n",
      "Epoch 65/100\n",
      "1552/1552 [==============================] - 27s 17ms/step - loss: 0.0032 - acc: 1.0000 - val_loss: 0.0990 - val_acc: 0.9820\n",
      "\n",
      "Epoch 00065: val_loss did not improve from 0.04730\n",
      "Epoch 66/100\n",
      "1552/1552 [==============================] - 27s 17ms/step - loss: 0.0067 - acc: 0.9981 - val_loss: 0.0989 - val_acc: 0.9820\n",
      "\n",
      "Epoch 00066: val_loss did not improve from 0.04730\n",
      "Epoch 67/100\n",
      "1552/1552 [==============================] - 27s 17ms/step - loss: 0.0053 - acc: 0.9981 - val_loss: 0.0827 - val_acc: 0.9805\n",
      "\n",
      "Epoch 00067: val_loss did not improve from 0.04730\n",
      "Epoch 68/100\n",
      "1552/1552 [==============================] - 27s 17ms/step - loss: 0.0022 - acc: 0.9994 - val_loss: 0.0938 - val_acc: 0.9775\n",
      "\n",
      "Epoch 00068: val_loss did not improve from 0.04730\n",
      "Epoch 69/100\n",
      "1552/1552 [==============================] - 27s 17ms/step - loss: 0.0033 - acc: 0.9994 - val_loss: 0.0817 - val_acc: 0.9820\n",
      "\n",
      "Epoch 00069: val_loss did not improve from 0.04730\n",
      "Epoch 70/100\n",
      "1552/1552 [==============================] - 27s 17ms/step - loss: 0.0047 - acc: 0.9981 - val_loss: 0.1041 - val_acc: 0.9775\n",
      "\n",
      "Epoch 00070: val_loss did not improve from 0.04730\n",
      "Epoch 71/100\n",
      "1552/1552 [==============================] - 27s 17ms/step - loss: 0.0023 - acc: 1.0000 - val_loss: 0.0877 - val_acc: 0.9820\n",
      "\n",
      "Epoch 00071: val_loss did not improve from 0.04730\n",
      "Epoch 72/100\n",
      "1552/1552 [==============================] - 27s 17ms/step - loss: 0.0021 - acc: 0.9994 - val_loss: 0.0817 - val_acc: 0.9850\n",
      "\n",
      "Epoch 00072: val_loss did not improve from 0.04730\n",
      "Epoch 73/100\n",
      "1552/1552 [==============================] - 27s 17ms/step - loss: 0.0047 - acc: 0.9981 - val_loss: 0.0627 - val_acc: 0.9850\n",
      "\n",
      "Epoch 00073: val_loss did not improve from 0.04730\n",
      "Epoch 74/100\n",
      "1552/1552 [==============================] - 27s 17ms/step - loss: 0.0108 - acc: 0.9968 - val_loss: 0.1209 - val_acc: 0.9820\n",
      "\n",
      "Epoch 00074: val_loss did not improve from 0.04730\n",
      "Epoch 75/100\n",
      "1552/1552 [==============================] - 27s 17ms/step - loss: 0.0132 - acc: 0.9968 - val_loss: 0.0819 - val_acc: 0.9850\n",
      "\n",
      "Epoch 00075: val_loss did not improve from 0.04730\n",
      "Epoch 76/100\n",
      "1552/1552 [==============================] - 27s 17ms/step - loss: 0.0091 - acc: 0.9974 - val_loss: 0.0780 - val_acc: 0.9850\n",
      "\n",
      "Epoch 00076: val_loss did not improve from 0.04730\n",
      "Epoch 77/100\n",
      "1552/1552 [==============================] - 27s 17ms/step - loss: 0.0062 - acc: 0.9968 - val_loss: 0.0723 - val_acc: 0.9835\n",
      "\n",
      "Epoch 00077: val_loss did not improve from 0.04730\n",
      "Epoch 78/100\n",
      "1552/1552 [==============================] - 27s 17ms/step - loss: 0.0047 - acc: 0.9994 - val_loss: 0.0697 - val_acc: 0.9850\n",
      "\n",
      "Epoch 00078: val_loss did not improve from 0.04730\n",
      "Epoch 79/100\n",
      "1552/1552 [==============================] - 27s 17ms/step - loss: 0.0048 - acc: 0.9987 - val_loss: 0.1053 - val_acc: 0.9700\n",
      "\n",
      "Epoch 00079: val_loss did not improve from 0.04730\n",
      "Epoch 80/100\n",
      "1552/1552 [==============================] - 27s 17ms/step - loss: 0.0056 - acc: 0.9974 - val_loss: 0.0883 - val_acc: 0.9805\n",
      "\n",
      "Epoch 00080: val_loss did not improve from 0.04730\n",
      "Epoch 81/100\n",
      "1552/1552 [==============================] - 27s 17ms/step - loss: 0.0140 - acc: 0.9955 - val_loss: 0.1522 - val_acc: 0.9625\n",
      "\n",
      "Epoch 00081: val_loss did not improve from 0.04730\n",
      "Epoch 82/100\n",
      "1552/1552 [==============================] - 27s 17ms/step - loss: 0.0089 - acc: 0.9961 - val_loss: 0.1229 - val_acc: 0.9700\n",
      "\n",
      "Epoch 00082: val_loss did not improve from 0.04730\n",
      "Epoch 83/100\n",
      "1552/1552 [==============================] - 27s 17ms/step - loss: 0.0072 - acc: 0.9968 - val_loss: 0.1537 - val_acc: 0.9610\n",
      "\n",
      "Epoch 00083: val_loss did not improve from 0.04730\n",
      "Epoch 84/100\n"
     ]
    },
    {
     "name": "stdout",
     "output_type": "stream",
     "text": [
      "1552/1552 [==============================] - 27s 17ms/step - loss: 0.0061 - acc: 0.9981 - val_loss: 0.1079 - val_acc: 0.9745\n",
      "\n",
      "Epoch 00084: val_loss did not improve from 0.04730\n",
      "Epoch 85/100\n",
      "1552/1552 [==============================] - 27s 17ms/step - loss: 8.4033e-04 - acc: 1.0000 - val_loss: 0.0879 - val_acc: 0.9805\n",
      "\n",
      "Epoch 00085: val_loss did not improve from 0.04730\n",
      "Epoch 86/100\n",
      "1552/1552 [==============================] - 27s 17ms/step - loss: 0.0016 - acc: 1.0000 - val_loss: 0.0842 - val_acc: 0.9805\n",
      "\n",
      "Epoch 00086: val_loss did not improve from 0.04730\n",
      "Epoch 87/100\n",
      "1552/1552 [==============================] - 27s 17ms/step - loss: 0.0015 - acc: 1.0000 - val_loss: 0.0897 - val_acc: 0.9805\n",
      "\n",
      "Epoch 00087: val_loss did not improve from 0.04730\n",
      "Epoch 88/100\n",
      "1552/1552 [==============================] - 27s 17ms/step - loss: 0.0017 - acc: 1.0000 - val_loss: 0.0746 - val_acc: 0.9850\n",
      "\n",
      "Epoch 00088: val_loss did not improve from 0.04730\n",
      "Epoch 89/100\n",
      "1552/1552 [==============================] - 27s 17ms/step - loss: 0.0038 - acc: 0.9994 - val_loss: 0.0614 - val_acc: 0.9880\n",
      "\n",
      "Epoch 00089: val_loss did not improve from 0.04730\n",
      "Epoch 90/100\n",
      "1552/1552 [==============================] - 27s 17ms/step - loss: 0.0039 - acc: 0.9994 - val_loss: 0.0808 - val_acc: 0.9850\n",
      "\n",
      "Epoch 00090: val_loss did not improve from 0.04730\n",
      "Epoch 91/100\n",
      "1552/1552 [==============================] - 27s 17ms/step - loss: 0.0013 - acc: 0.9994 - val_loss: 0.0718 - val_acc: 0.9850\n",
      "\n",
      "Epoch 00091: val_loss did not improve from 0.04730\n",
      "Epoch 92/100\n",
      "1552/1552 [==============================] - 27s 17ms/step - loss: 0.0024 - acc: 0.9994 - val_loss: 0.0780 - val_acc: 0.9820\n",
      "\n",
      "Epoch 00092: val_loss did not improve from 0.04730\n",
      "Epoch 93/100\n",
      "1552/1552 [==============================] - 27s 17ms/step - loss: 0.0174 - acc: 0.9948 - val_loss: 0.1420 - val_acc: 0.9745\n",
      "\n",
      "Epoch 00093: val_loss did not improve from 0.04730\n",
      "Epoch 94/100\n",
      "1552/1552 [==============================] - 27s 17ms/step - loss: 0.0074 - acc: 0.9968 - val_loss: 0.0672 - val_acc: 0.9850\n",
      "\n",
      "Epoch 00094: val_loss did not improve from 0.04730\n",
      "Epoch 95/100\n",
      "1552/1552 [==============================] - 27s 17ms/step - loss: 0.0020 - acc: 1.0000 - val_loss: 0.0646 - val_acc: 0.9850\n",
      "\n",
      "Epoch 00095: val_loss did not improve from 0.04730\n",
      "Epoch 96/100\n",
      "1552/1552 [==============================] - 27s 17ms/step - loss: 0.0017 - acc: 0.9994 - val_loss: 0.0632 - val_acc: 0.9835\n",
      "\n",
      "Epoch 00096: val_loss did not improve from 0.04730\n",
      "Epoch 97/100\n",
      "1552/1552 [==============================] - 27s 17ms/step - loss: 8.1375e-04 - acc: 1.0000 - val_loss: 0.0617 - val_acc: 0.9865\n",
      "\n",
      "Epoch 00097: val_loss did not improve from 0.04730\n",
      "Epoch 98/100\n",
      "1552/1552 [==============================] - 27s 17ms/step - loss: 0.0025 - acc: 0.9994 - val_loss: 0.0679 - val_acc: 0.9805\n",
      "\n",
      "Epoch 00098: val_loss did not improve from 0.04730\n",
      "Epoch 99/100\n",
      "1552/1552 [==============================] - 27s 17ms/step - loss: 0.0107 - acc: 0.9974 - val_loss: 0.0900 - val_acc: 0.9790\n",
      "\n",
      "Epoch 00099: val_loss did not improve from 0.04730\n",
      "Epoch 100/100\n",
      "1552/1552 [==============================] - 27s 17ms/step - loss: 0.0063 - acc: 0.9961 - val_loss: 0.0940 - val_acc: 0.9760\n",
      "\n",
      "Epoch 00100: val_loss did not improve from 0.04730\n"
     ]
    }
   ],
   "source": [
    "hist = model.fit(x_train, y_train, batch_size=64, epochs=100, validation_split=0.3, \n",
    "                 shuffle=True, callbacks = [checkpointer])\n",
    "\n",
    "#   model.fit_tfrecord(epochs=100,\n",
    "#                      initial_epoch=initial_epoch,\n",
    "#                      steps_per_epoch=train_steps,\n",
    "#                      validation_steps=val_steps,\n",
    "#                      callbacks=[tensor_board, early_stopping,\n",
    "#                                 checkpointer, csv_logger])"
   ]
  },
  {
   "cell_type": "code",
   "execution_count": 10,
   "metadata": {},
   "outputs": [
    {
     "data": {
      "image/png": "[encoded data removed]",
      "text/plain": [
       "<Figure size 432x288 with 1 Axes>"
      ]
     },
     "metadata": {},
     "output_type": "display_data"
    }
   ],
   "source": [
    "fig, loss_ax = plt.subplots()\n",
    "loss_ax.plot(hist.history['loss'], 'y', label='train loss')\n",
    "loss_ax.plot(hist.history['val_loss'], 'r', label='val loss')\n",
    "loss_ax.set_xlabel('epoch')\n",
    "loss_ax.set_ylabel('loss')\n",
    "loss_ax.legend(loc='upper left')\n",
    "\n",
    "plt.show()"
   ]
  },
  {
   "cell_type": "markdown",
   "metadata": {},
   "source": [
    "(6) Test"
   ]
  },
  {
   "cell_type": "code",
   "execution_count": 12,
   "metadata": {
    "scrolled": false
   },
   "outputs": [],
   "source": [
    "model = load_model(model_path+'32-0.0473.hdf5')"
   ]
  },
  {
   "cell_type": "code",
   "execution_count": 13,
   "metadata": {
    "colab": {},
    "colab_type": "code",
    "id": "DefsBoWAFKdi",
    "scrolled": true
   },
   "outputs": [
    {
     "name": "stdout",
     "output_type": "stream",
     "text": [
      "1093/1093 [==============================] - 7s 6ms/step\n",
      "Loss: 0.07264508801526906 Accuracy: 0.9780420860018298\n"
     ]
    }
   ],
   "source": [
    "[loss, accuracy] = model.evaluate(x_test, y_test)\n",
    "print('Loss:', loss, 'Accuracy:', accuracy)"
   ]
  },
  {
   "cell_type": "code",
   "execution_count": 14,
   "metadata": {
    "scrolled": true
   },
   "outputs": [
    {
     "name": "stdout",
     "output_type": "stream",
     "text": [
      "F1 Score: 0.9829059829059829\n"
     ]
    }
   ],
   "source": [
    "pred = model.predict(x_test)\n",
    "test_f1_score = f1_score(y_test, pred > 0.5)\n",
    "print('F1 Score:', test_f1_score)"
   ]
  },
  {
   "cell_type": "code",
   "execution_count": 18,
   "metadata": {},
   "outputs": [
    {
     "name": "stdout",
     "output_type": "stream",
     "text": [
      "6.15 s ± 11.1 ms per loop (mean ± std. dev. of 5 runs, 5 loops each)\n"
     ]
    }
   ],
   "source": [
    "%timeit -n 5 -r 5 model.predict(x_test)"
   ]
  },
  {
   "cell_type": "code",
   "execution_count": null,
   "metadata": {},
   "outputs": [],
   "source": []
  }
 ],
 "metadata": {
  "accelerator": "GPU",
  "colab": {
   "collapsed_sections": [],
   "name": "brains_on_beats_model_test",
   "provenance": [],
   "version": "0.3.2"
  },
  "kernelspec": {
   "display_name": "Python 3",
   "language": "python",
   "name": "python3"
  },
  "language_info": {
   "codemirror_mode": {
    "name": "ipython",
    "version": 3
   },
   "file_extension": ".py",
   "mimetype": "text/x-python",
   "name": "python",
   "nbconvert_exporter": "python",
   "pygments_lexer": "ipython3",
   "version": "3.5.2"
  }
 },
 "nbformat": 4,
 "nbformat_minor": 1
}
